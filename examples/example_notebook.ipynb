{
  "cells": [
    {
      "cell_type": "markdown",
      "id": "778d674d",
      "metadata": {
        "id": "778d674d"
      },
      "source": [
        "# PrxteinMPNN Example Notebook\n",
        "\n",
        "[![Open In Colab](https://colab.research.google.com/assets/colab-badge.svg)](https://colab.research.google.com/github/maraxen/PrxteinMPNN/blob/main/examples/example_notebook.ipynb)\n",
        "\n",
        "Welcome to the PrxteinMPNN example notebook! This notebook demonstrates the core functionality of PrxteinMPNN, a functional interface for ProteinMPNN built with JAX.\n",
        "\n",
        "## What you'll learn:\n",
        "- How to load and work with protein structures\n",
        "- How to score sequences using ProteinMPNN\n",
        "- How to sample new sequences\n",
        "- How to leverage JAX transformations for performance"
      ]
    },
    {
      "cell_type": "code",
      "execution_count": 1,
      "id": "0b9b48ef",
      "metadata": {
        "collapsed": true,
        "id": "0b9b48ef",
        "outputId": "cf676293-274a-4130-99e9-c6b2e359f1c1",
        "colab": {
          "base_uri": "https://localhost:8080/"
        }
      },
      "outputs": [
        {
          "output_type": "stream",
          "name": "stdout",
          "text": [
            "Cloning into 'PrxteinMPNN'...\n",
            "remote: Enumerating objects: 1125, done.\u001b[K\n",
            "remote: Counting objects: 100% (616/616), done.\u001b[K\n",
            "remote: Compressing objects: 100% (325/325), done.\u001b[K\n",
            "remote: Total 1125 (delta 263), reused 530 (delta 220), pack-reused 509 (from 1)\u001b[K\n",
            "Receiving objects: 100% (1125/1125), 49.21 MiB | 18.62 MiB/s, done.\n",
            "Resolving deltas: 100% (551/551), done.\n",
            "/content/PrxteinMPNN\n",
            "Obtaining file:///content/PrxteinMPNN\n",
            "  Installing build dependencies ... \u001b[?25l\u001b[?25hdone\n",
            "  Checking if build backend supports build_editable ... \u001b[?25l\u001b[?25hdone\n",
            "  Getting requirements to build editable ... \u001b[?25l\u001b[?25hdone\n",
            "  Preparing editable metadata (pyproject.toml) ... \u001b[?25l\u001b[?25hdone\n",
            "Requirement already satisfied: jax in /usr/local/lib/python3.11/dist-packages (from prxteinmpnn==0.1.0) (0.5.2)\n",
            "Collecting jaxtyping (from prxteinmpnn==0.1.0)\n",
            "  Downloading jaxtyping-0.3.2-py3-none-any.whl.metadata (7.0 kB)\n",
            "Requirement already satisfied: jaxlib in /usr/local/lib/python3.11/dist-packages (from prxteinmpnn==0.1.0) (0.5.1)\n",
            "Requirement already satisfied: joblib in /usr/local/lib/python3.11/dist-packages (from prxteinmpnn==0.1.0) (1.5.1)\n",
            "Requirement already satisfied: flax in /usr/local/lib/python3.11/dist-packages (from prxteinmpnn==0.1.0) (0.10.6)\n",
            "Collecting biotite (from prxteinmpnn==0.1.0)\n",
            "  Downloading biotite-1.4.0-cp311-cp311-manylinux_2_17_x86_64.manylinux2014_x86_64.whl.metadata (5.5 kB)\n",
            "Collecting foldcomp (from prxteinmpnn==0.1.0)\n",
            "  Downloading foldcomp-0.1.0-cp311-cp311-manylinux_2_24_x86_64.manylinux_2_28_x86_64.whl.metadata (10.0 kB)\n",
            "Collecting biotraj<2.0,>=1.0 (from biotite->prxteinmpnn==0.1.0)\n",
            "  Downloading biotraj-1.2.2-cp311-cp311-manylinux_2_17_x86_64.manylinux2014_x86_64.whl.metadata (32 kB)\n",
            "Requirement already satisfied: msgpack>=0.5.6 in /usr/local/lib/python3.11/dist-packages (from biotite->prxteinmpnn==0.1.0) (1.1.1)\n",
            "Requirement already satisfied: networkx>=2.0 in /usr/local/lib/python3.11/dist-packages (from biotite->prxteinmpnn==0.1.0) (3.5)\n",
            "Requirement already satisfied: numpy>=1.25 in /usr/local/lib/python3.11/dist-packages (from biotite->prxteinmpnn==0.1.0) (2.0.2)\n",
            "Requirement already satisfied: packaging>=24.0 in /usr/local/lib/python3.11/dist-packages (from biotite->prxteinmpnn==0.1.0) (25.0)\n",
            "Requirement already satisfied: requests>=2.12 in /usr/local/lib/python3.11/dist-packages (from biotite->prxteinmpnn==0.1.0) (2.32.3)\n",
            "Requirement already satisfied: optax in /usr/local/lib/python3.11/dist-packages (from flax->prxteinmpnn==0.1.0) (0.2.5)\n",
            "Requirement already satisfied: orbax-checkpoint in /usr/local/lib/python3.11/dist-packages (from flax->prxteinmpnn==0.1.0) (0.11.19)\n",
            "Requirement already satisfied: tensorstore in /usr/local/lib/python3.11/dist-packages (from flax->prxteinmpnn==0.1.0) (0.1.74)\n",
            "Requirement already satisfied: rich>=11.1 in /usr/local/lib/python3.11/dist-packages (from flax->prxteinmpnn==0.1.0) (13.9.4)\n",
            "Requirement already satisfied: typing_extensions>=4.2 in /usr/local/lib/python3.11/dist-packages (from flax->prxteinmpnn==0.1.0) (4.14.1)\n",
            "Requirement already satisfied: PyYAML>=5.4.1 in /usr/local/lib/python3.11/dist-packages (from flax->prxteinmpnn==0.1.0) (6.0.2)\n",
            "Requirement already satisfied: treescope>=0.1.7 in /usr/local/lib/python3.11/dist-packages (from flax->prxteinmpnn==0.1.0) (0.1.9)\n",
            "Requirement already satisfied: ml_dtypes>=0.4.0 in /usr/local/lib/python3.11/dist-packages (from jax->prxteinmpnn==0.1.0) (0.4.1)\n",
            "Requirement already satisfied: opt_einsum in /usr/local/lib/python3.11/dist-packages (from jax->prxteinmpnn==0.1.0) (3.4.0)\n",
            "Requirement already satisfied: scipy>=1.11.1 in /usr/local/lib/python3.11/dist-packages (from jax->prxteinmpnn==0.1.0) (1.16.0)\n",
            "Requirement already satisfied: httpx>=0.23.0 in /usr/local/lib/python3.11/dist-packages (from foldcomp->prxteinmpnn==0.1.0) (0.28.1)\n",
            "Collecting wadler-lindig>=0.1.3 (from jaxtyping->prxteinmpnn==0.1.0)\n",
            "  Downloading wadler_lindig-0.1.7-py3-none-any.whl.metadata (17 kB)\n",
            "Requirement already satisfied: anyio in /usr/local/lib/python3.11/dist-packages (from httpx>=0.23.0->foldcomp->prxteinmpnn==0.1.0) (4.9.0)\n",
            "Requirement already satisfied: certifi in /usr/local/lib/python3.11/dist-packages (from httpx>=0.23.0->foldcomp->prxteinmpnn==0.1.0) (2025.7.14)\n",
            "Requirement already satisfied: httpcore==1.* in /usr/local/lib/python3.11/dist-packages (from httpx>=0.23.0->foldcomp->prxteinmpnn==0.1.0) (1.0.9)\n",
            "Requirement already satisfied: idna in /usr/local/lib/python3.11/dist-packages (from httpx>=0.23.0->foldcomp->prxteinmpnn==0.1.0) (3.10)\n",
            "Requirement already satisfied: h11>=0.16 in /usr/local/lib/python3.11/dist-packages (from httpcore==1.*->httpx>=0.23.0->foldcomp->prxteinmpnn==0.1.0) (0.16.0)\n",
            "Requirement already satisfied: charset-normalizer<4,>=2 in /usr/local/lib/python3.11/dist-packages (from requests>=2.12->biotite->prxteinmpnn==0.1.0) (3.4.2)\n",
            "Requirement already satisfied: urllib3<3,>=1.21.1 in /usr/local/lib/python3.11/dist-packages (from requests>=2.12->biotite->prxteinmpnn==0.1.0) (2.5.0)\n",
            "Requirement already satisfied: markdown-it-py>=2.2.0 in /usr/local/lib/python3.11/dist-packages (from rich>=11.1->flax->prxteinmpnn==0.1.0) (3.0.0)\n",
            "Requirement already satisfied: pygments<3.0.0,>=2.13.0 in /usr/local/lib/python3.11/dist-packages (from rich>=11.1->flax->prxteinmpnn==0.1.0) (2.19.2)\n",
            "Requirement already satisfied: absl-py>=0.7.1 in /usr/local/lib/python3.11/dist-packages (from optax->flax->prxteinmpnn==0.1.0) (1.4.0)\n",
            "Requirement already satisfied: chex>=0.1.87 in /usr/local/lib/python3.11/dist-packages (from optax->flax->prxteinmpnn==0.1.0) (0.1.90)\n",
            "Requirement already satisfied: etils[epath,epy] in /usr/local/lib/python3.11/dist-packages (from orbax-checkpoint->flax->prxteinmpnn==0.1.0) (1.13.0)\n",
            "Requirement already satisfied: nest_asyncio in /usr/local/lib/python3.11/dist-packages (from orbax-checkpoint->flax->prxteinmpnn==0.1.0) (1.6.0)\n",
            "Requirement already satisfied: protobuf in /usr/local/lib/python3.11/dist-packages (from orbax-checkpoint->flax->prxteinmpnn==0.1.0) (5.29.5)\n",
            "Requirement already satisfied: humanize in /usr/local/lib/python3.11/dist-packages (from orbax-checkpoint->flax->prxteinmpnn==0.1.0) (4.12.3)\n",
            "Requirement already satisfied: simplejson>=3.16.0 in /usr/local/lib/python3.11/dist-packages (from orbax-checkpoint->flax->prxteinmpnn==0.1.0) (3.20.1)\n",
            "Requirement already satisfied: toolz>=0.9.0 in /usr/local/lib/python3.11/dist-packages (from chex>=0.1.87->optax->flax->prxteinmpnn==0.1.0) (0.12.1)\n",
            "Requirement already satisfied: mdurl~=0.1 in /usr/local/lib/python3.11/dist-packages (from markdown-it-py>=2.2.0->rich>=11.1->flax->prxteinmpnn==0.1.0) (0.1.2)\n",
            "Requirement already satisfied: sniffio>=1.1 in /usr/local/lib/python3.11/dist-packages (from anyio->httpx>=0.23.0->foldcomp->prxteinmpnn==0.1.0) (1.3.1)\n",
            "Requirement already satisfied: fsspec in /usr/local/lib/python3.11/dist-packages (from etils[epath,epy]->orbax-checkpoint->flax->prxteinmpnn==0.1.0) (2025.3.0)\n",
            "Requirement already satisfied: importlib_resources in /usr/local/lib/python3.11/dist-packages (from etils[epath,epy]->orbax-checkpoint->flax->prxteinmpnn==0.1.0) (6.5.2)\n",
            "Requirement already satisfied: zipp in /usr/local/lib/python3.11/dist-packages (from etils[epath,epy]->orbax-checkpoint->flax->prxteinmpnn==0.1.0) (3.23.0)\n",
            "Downloading biotite-1.4.0-cp311-cp311-manylinux_2_17_x86_64.manylinux2014_x86_64.whl (54.4 MB)\n",
            "\u001b[2K   \u001b[90m━━━━━━━━━━━━━━━━━━━━━━━━━━━━━━━━━━━━━━━━\u001b[0m \u001b[32m54.4/54.4 MB\u001b[0m \u001b[31m15.7 MB/s\u001b[0m eta \u001b[36m0:00:00\u001b[0m\n",
            "\u001b[?25hDownloading foldcomp-0.1.0-cp311-cp311-manylinux_2_24_x86_64.manylinux_2_28_x86_64.whl (261 kB)\n",
            "\u001b[2K   \u001b[90m━━━━━━━━━━━━━━━━━━━━━━━━━━━━━━━━━━━━━━━━\u001b[0m \u001b[32m261.1/261.1 kB\u001b[0m \u001b[31m19.5 MB/s\u001b[0m eta \u001b[36m0:00:00\u001b[0m\n",
            "\u001b[?25hDownloading jaxtyping-0.3.2-py3-none-any.whl (55 kB)\n",
            "\u001b[2K   \u001b[90m━━━━━━━━━━━━━━━━━━━━━━━━━━━━━━━━━━━━━━━━\u001b[0m \u001b[32m55.4/55.4 kB\u001b[0m \u001b[31m4.4 MB/s\u001b[0m eta \u001b[36m0:00:00\u001b[0m\n",
            "\u001b[?25hDownloading biotraj-1.2.2-cp311-cp311-manylinux_2_17_x86_64.manylinux2014_x86_64.whl (2.2 MB)\n",
            "\u001b[2K   \u001b[90m━━━━━━━━━━━━━━━━━━━━━━━━━━━━━━━━━━━━━━━━\u001b[0m \u001b[32m2.2/2.2 MB\u001b[0m \u001b[31m73.6 MB/s\u001b[0m eta \u001b[36m0:00:00\u001b[0m\n",
            "\u001b[?25hDownloading wadler_lindig-0.1.7-py3-none-any.whl (20 kB)\n",
            "Building wheels for collected packages: prxteinmpnn\n",
            "  Building editable for prxteinmpnn (pyproject.toml) ... \u001b[?25l\u001b[?25hdone\n",
            "  Created wheel for prxteinmpnn: filename=prxteinmpnn-0.1.0-0.editable-py3-none-any.whl size=2457 sha256=9ac848b98c4b4acbd8746ace92a8b7223fb8fe4a4e76d9dd9442cf25c3c38fae\n",
            "  Stored in directory: /tmp/pip-ephem-wheel-cache-dgir6mfa/wheels/13/42/73/5fa295ef2401e6d0d8b6804f217fba96a210485d145c479f53\n",
            "Successfully built prxteinmpnn\n",
            "Installing collected packages: wadler-lindig, jaxtyping, biotraj, foldcomp, biotite, prxteinmpnn\n",
            "Successfully installed biotite-1.4.0 biotraj-1.2.2 foldcomp-0.1.0 jaxtyping-0.3.2 prxteinmpnn-0.1.0 wadler-lindig-0.1.7\n"
          ]
        }
      ],
      "source": [
        "# Install PrxteinMPNN and restart kernel\n",
        "!git clone https://github.com/maraxen/PrxteinMPNN.git\n",
        "%cd PrxteinMPNN\n",
        "!pip install -e ."
      ]
    },
    {
      "cell_type": "markdown",
      "id": "2f728836",
      "metadata": {
        "id": "2f728836"
      },
      "source": [
        "## 1. Setup and Imports\n",
        "\n",
        "First, let's import the necessary libraries and modules from PrxteinMPNN."
      ]
    },
    {
      "cell_type": "code",
      "execution_count": 5,
      "id": "59dca23b",
      "metadata": {
        "id": "59dca23b",
        "outputId": "00a8602d-6ad1-42be-a416-10cce45188b9",
        "colab": {
          "base_uri": "https://localhost:8080/"
        }
      },
      "outputs": [
        {
          "output_type": "stream",
          "name": "stdout",
          "text": [
            "JAX version: 0.5.2\n",
            "JAX backend: cpu\n",
            "Available devices: [CpuDevice(id=0)]\n"
          ]
        }
      ],
      "source": [
        "import jax\n",
        "import jax.numpy as jnp\n",
        "import numpy as np\n",
        "from typing import Any\n",
        "\n",
        "print(f\"JAX version: {jax.__version__}\")\n",
        "print(f\"JAX backend: {jax.default_backend()}\")\n",
        "print(f\"Available devices: {jax.devices()}\")"
      ]
    },
    {
      "cell_type": "markdown",
      "id": "3be8e8a9",
      "metadata": {
        "id": "3be8e8a9"
      },
      "source": [
        "## 2. Load a Protein Structure\n",
        "\n",
        "We'll start by loading a protein structure. For this example, you can upload a protein structure to colab. You can use any protein structure file, trajectory and template file (with from_trajectory), pdb string (from pdb_string), or foldcomp accession (see prxteinmpnn.utils.foldcomp_utils)."
      ]
    },
    {
      "cell_type": "code",
      "execution_count": 1,
      "id": "6b42d8f8",
      "metadata": {
        "id": "6b42d8f8",
        "outputId": "b7ba81e0-5112-49cc-e051-2fae2ff112a9",
        "colab": {
          "base_uri": "https://localhost:8080/"
        }
      },
      "outputs": [
        {
          "output_type": "stream",
          "name": "stdout",
          "text": [
            "Loading protein structure...\n",
            "✓ Structure loaded successfully\n",
            "Note: In practice, use from_structure_file() with your PDB file\n"
          ]
        }
      ],
      "source": [
        "from prxteinmpnn.io import from_structure_file\n",
        "\n",
        "print(\"Loading protein structure...\")\n",
        "protein_structure = from_structure_file(file_path=\"/content/PrxteinMPNN/examples/AF-P10599-F1-model_v4.pdb\") # chain and model can also be specified\n",
        "\n",
        "print(\"✓ Structure loaded successfully\")\n",
        "print(\"Note: In practice, use from_structure_file() with your PDB file\")"
      ]
    },
    {
      "cell_type": "markdown",
      "id": "9d2a29bf",
      "metadata": {
        "id": "9d2a29bf"
      },
      "source": [
        "## 3. Load the ProteinMPNN Model\n",
        "\n",
        "Now let's load the ProteinMPNN model with the desired version and weights.\n",
        "\n",
        "Enums specify the model version and model weights (original or soluble)."
      ]
    },
    {
      "cell_type": "code",
      "execution_count": 2,
      "id": "bd105f65",
      "metadata": {
        "id": "bd105f65",
        "outputId": "a66c9e22-88ed-46b0-e0e7-ef3d1b03b734",
        "colab": {
          "base_uri": "https://localhost:8080/"
        }
      },
      "outputs": [
        {
          "output_type": "stream",
          "name": "stdout",
          "text": [
            "Loading ProteinMPNN model...\n",
            "✓ Loaded ProteinMPNN model version: v_48_020.pkl\n",
            "✓ Using model weights: original\n"
          ]
        }
      ],
      "source": [
        "from prxteinmpnn.mpnn import ProteinMPNNModelVersion, ModelWeights, get_mpnn_model\n",
        "\n",
        "print(\"Loading ProteinMPNN model...\")\n",
        "\n",
        "model_version = ProteinMPNNModelVersion.V_48_020\n",
        "model_weights = ModelWeights.DEFAULT\n",
        "\n",
        "model = get_mpnn_model(\n",
        "    model_version=model_version,\n",
        "    model_weights=model_weights,\n",
        ")\n",
        "\n",
        "print(f\"✓ Loaded ProteinMPNN model version: {model_version.value}\")\n",
        "print(f\"✓ Using model weights: {model_weights.value}\")"
      ]
    },
    {
      "cell_type": "markdown",
      "id": "bc62a991",
      "metadata": {
        "id": "bc62a991"
      },
      "source": [
        "## 4. Prepare Model Inputs\n",
        "\n",
        "Convert the protein structure to model inputs that can be used with ProteinMPNN."
      ]
    },
    {
      "cell_type": "code",
      "execution_count": 3,
      "id": "bbe1ad37",
      "metadata": {
        "id": "bbe1ad37",
        "outputId": "ce491f01-e003-4749-fa8d-fcfdef960368",
        "colab": {
          "base_uri": "https://localhost:8080/"
        }
      },
      "outputs": [
        {
          "output_type": "stream",
          "name": "stdout",
          "text": [
            "Preparing model inputs...\n",
            "✓ Model inputs prepared\n",
            "Note: In practice, use protein_structure_to_model_inputs()\n",
            "Sequence length: 105\n",
            "Sequence: [10 17  8 13  7  3 15  8 16  0  4 13  3  0  9  2  0  0  5  2]...\n"
          ]
        }
      ],
      "source": [
        "# Convert structure to model inputs\n",
        "print(\"Preparing model inputs...\")\n",
        "from prxteinmpnn.io import protein_structure_to_model_inputs\n",
        "\n",
        "# In practice, you would use:\n",
        "model_inputs = protein_structure_to_model_inputs(protein_structure)\n",
        "\n",
        "# For this example, we'll create mock model inputs\n",
        "print(\"✓ Model inputs prepared\")\n",
        "print(\"Note: In practice, use protein_structure_to_model_inputs()\")\n",
        "\n",
        "# Mock some basic parameters for demonstration\n",
        "\n",
        "print(f\"Sequence length: {len(model_inputs.sequence)}\")\n",
        "print(f\"Sequence: {model_inputs.sequence[:20]}...\")"
      ]
    },
    {
      "cell_type": "markdown",
      "id": "b51817f4",
      "metadata": {
        "id": "b51817f4"
      },
      "source": [
        "## 5. Sequence Scoring\n",
        "\n",
        "Let's score sequences using the ProteinMPNN model. This demonstrates how to evaluate the likelihood of specific amino acid sequences for a given structure.\n",
        "\n",
        "Random-number generator keys for stochastic aspects are explicitly defined.\n",
        "\n",
        "JAX enables"
      ]
    },
    {
      "cell_type": "code",
      "execution_count": 6,
      "id": "66ef8b70",
      "metadata": {
        "id": "66ef8b70",
        "outputId": "6a5d4440-38c0-46e5-943f-9b17e76edd34",
        "colab": {
          "base_uri": "https://localhost:8080/"
        }
      },
      "outputs": [
        {
          "output_type": "stream",
          "name": "stdout",
          "text": [
            "Setting up sequence scoring...\n",
            "✓ Scoring function created\n",
            "Prepared 3 sequences for scoring\n",
            "✓ Prepared sequences successfully\n",
            "Scoring sequences with same key for decoding order...\n",
            "✓ Scored sequences successfully\n"
          ]
        }
      ],
      "source": [
        "from prxteinmpnn.scoring.score import make_score_sequence\n",
        "from prxteinmpnn.utils.decoding_order import random_decoding_order\n",
        "from prxteinmpnn.io import string_to_protein_sequence\n",
        "\n",
        "\n",
        "# Initialize random key for JAX operations\n",
        "key = jax.random.PRNGKey(42)\n",
        "print(\"Setting up sequence scoring...\")\n",
        "\n",
        "# Create scoring function\n",
        "score_sequence = make_score_sequence(\n",
        "    model,\n",
        "    random_decoding_order,\n",
        "    model_inputs=model_inputs,\n",
        ")\n",
        "\n",
        "print(\"✓ Scoring function created\")\n",
        "\n",
        "# Example of scoring multiple sequences\n",
        "sequences_to_score = [\n",
        "    \"MKFLVNVALVFMVVYISYIYAAIYIQASLLVASVGGTLIPALYQFAIWIIKMKFLVNVALVFMVVYISYIYAAIYIQASLLVASVGGTLIPALYQFAIWIIKIJK\",\n",
        "    \"VNVALVFMVVYISYIYAAIYIQASLLVASVGGTLIPALYQFAIWIIKIJKMKFLVNVALVFMVVYISYIYAAIYIQASLLVASVGGTLIPALYQFAIWIIKMKFL\",\n",
        "    \"VNVALVFMVVYISYIYAAIYIQASLLVASVGGTLIPALYQFAIWIIKMKFLVNVALVFMVVYISYIYAAIYIQASLLVASVGGTLIPALYQFAIWIIKIJKMKFL\",\n",
        "]\n",
        "\n",
        "# Prepare sequences for scoring\n",
        "sequences_to_score = jnp.array([string_to_protein_sequence(seq) for seq in sequences_to_score])\n",
        "\n",
        "print(f\"Prepared {len(sequences_to_score)} sequences for scoring\")\n",
        "\n",
        "print(\"✓ Prepared sequences successfully\")\n",
        "print(\"Scoring sequences with same key for decoding order...\")\n",
        "# Score the prepared sequences\n",
        "scores, logits, decoding_orders = jax.vmap(score_sequence, in_axes=(None, 0))(key, sequences_to_score) # type: ignore[arg-type]\n",
        "# using None for in_axes to keep the key fixed for all sequences\n",
        "# you could also use jax.random.split to create a new key for each sequence if needed\n",
        "print(\"✓ Scored sequences successfully\")\n"
      ]
    },
    {
      "cell_type": "code",
      "source": [
        "print(f\"Scores: {scores}\")\n"
      ],
      "metadata": {
        "id": "P1qcnbWgYHMB",
        "outputId": "1e44ecfe-3b88-4963-82a8-2c574d1f6397",
        "colab": {
          "base_uri": "https://localhost:8080/"
        }
      },
      "id": "P1qcnbWgYHMB",
      "execution_count": 7,
      "outputs": [
        {
          "output_type": "stream",
          "name": "stdout",
          "text": [
            "Scores: [3.3719664 3.4745483 3.4547827]\n"
          ]
        }
      ]
    },
    {
      "cell_type": "markdown",
      "id": "2290953a",
      "metadata": {
        "id": "2290953a"
      },
      "source": [
        "### Massively parallel scoring with memory efficiency using jax.lax.map and batch size\n",
        "\n",
        "Often, you may have memory limitations and jax will throw out of memory errors.\n",
        "\n",
        "jax.lax.map offers a convenient way to automatically vmap batches of inputs, effectively balancing efficiency and memory limitations."
      ]
    },
    {
      "cell_type": "code",
      "execution_count": 8,
      "id": "c0f39c90",
      "metadata": {
        "id": "c0f39c90",
        "outputId": "d3ea3ab6-d569-4908-f62b-46c3652ce9be",
        "colab": {
          "base_uri": "https://localhost:8080/"
        }
      },
      "outputs": [
        {
          "output_type": "stream",
          "name": "stderr",
          "text": [
            "/usr/local/lib/python3.11/dist-packages/jax/_src/ops/scatter.py:93: FutureWarning: scatter inputs have incompatible types: cannot safely cast value from dtype=int32 to dtype=int8 with jax_numpy_dtype_promotion='standard'. In future JAX releases this will result in an error.\n",
            "  warnings.warn(\n"
          ]
        }
      ],
      "source": [
        "\n",
        "# Example of scoring with batching\n",
        "num_sequences = 128#_000_000\n",
        "batch_size = 64\n",
        "\n",
        "from jaxtyping import PRNGKeyArray\n",
        "from prxteinmpnn.utils.types import ProteinSequence\n",
        "from functools import partial\n",
        "\n",
        "@partial(jax.jit, static_argnames=(\"mutation_rate\",))\n",
        "def mutate(key: PRNGKeyArray, input_sequence: ProteinSequence, mutation_rate: float=0.25) -> ProteinSequence:\n",
        "    \"\"\"Mutate a protein sequence by randomly changing some amino acids.\n",
        "\n",
        "    See github.com/maraxen/proteinsmc for more advanced mutation strategies and sampling methods.\n",
        "\n",
        "    \"\"\"\n",
        "    # Randomly mutate the input sequence\n",
        "    mutation_indices = jax.random.choice(key, jnp.arange(len(input_sequence)), shape=(int(len(input_sequence) * mutation_rate),), replace=False)\n",
        "    return input_sequence.at[mutation_indices].set(jax.random.choice(key, jnp.arange(0, 20),shape=mutation_indices.shape))\n",
        "\n",
        "sequences_to_score = jax.lax.map(\n",
        "    lambda key: mutate(key, model_inputs.sequence, 0.25),\n",
        "    jax.random.split(key, num_sequences),\n",
        "    batch_size=batch_size,\n",
        ")\n",
        "\n",
        "scores, logits, scoring_decoding_orders = jax.lax.map(\n",
        "    lambda seq: score_sequence(key, seq),  # type: ignore[arg-type]\n",
        "    sequences_to_score,\n",
        "    batch_size=batch_size,\n",
        ")\n"
      ]
    },
    {
      "cell_type": "code",
      "source": [
        "scores[:5]"
      ],
      "metadata": {
        "id": "X-Flb91EYvP0",
        "outputId": "6a43851e-bccc-4d60-847f-2476fb18c155",
        "colab": {
          "base_uri": "https://localhost:8080/"
        }
      },
      "id": "X-Flb91EYvP0",
      "execution_count": 9,
      "outputs": [
        {
          "output_type": "execute_result",
          "data": {
            "text/plain": [
              "Array([2.2299085, 2.2776206, 2.1614697, 2.2135031, 2.2152264], dtype=float32)"
            ]
          },
          "metadata": {},
          "execution_count": 9
        }
      ]
    },
    {
      "cell_type": "markdown",
      "id": "c3a7a5d6",
      "metadata": {
        "id": "c3a7a5d6"
      },
      "source": [
        "## 6. Sequence Sampling\n",
        "\n",
        "Now let's sample new sequences using different sampling strategies. This is the core functionality for protein design."
      ]
    },
    {
      "cell_type": "code",
      "execution_count": null,
      "id": "9ea11eca",
      "metadata": {
        "id": "9ea11eca"
      },
      "outputs": [],
      "source": [
        "from prxteinmpnn.sampling import make_sample_sequences, SamplingEnum\n",
        "\n",
        "\n",
        "# Demonstrate different sampling strategies\n",
        "sampling_strategies = [\n",
        "    (SamplingEnum.TEMPERATURE, \"Temperature sampling\"),\n",
        "    (SamplingEnum.STRAIGHT_THROUGH, \"Straight-through estimator sampling\"),\n",
        "]\n",
        "\n",
        "print(\"Available sampling strategies:\")\n",
        "for strategy, description in sampling_strategies:\n",
        "    print(f\"  - {strategy}: {description}\")\n",
        "\n",
        "\n",
        "print(\"Setting up sequence sampling...\")\n",
        "\n",
        "sample_sequence = make_sample_sequences(\n",
        "    model,\n",
        "    random_decoding_order,\n",
        "    sampling_strategy=SamplingEnum.STRAIGHT_THROUGH,\n",
        "    model_inputs=model_inputs,\n",
        ")\n",
        "\n",
        "print(\"✓ Sampling function created\")\n",
        "\n",
        "print(\"Sampling sequences with straight-through estimator...\")\n",
        "\n",
        "# Example of sampling sequences\n",
        "prng_sampling_key, key = jax.random.split(key, 2)\n",
        "hyperparameters = (0.01,) # Example hyperparameters, in this case the learning rate for the straight-through estimator\n",
        "iterations = 100  # Number of sequences to sample\n",
        "sampled_sequence, logits, decoding_order = sample_sequence(prng_sampling_key, hyperparameters, iterations)  # type: ignore[arg-type]\n",
        "\n",
        "from prxteinmpnn.utils.residue_constants import order_aa\n",
        "# Display sampled sequences\n",
        "print(f\"Sampled sequence {''.join([order_aa[aa] for aa in sampled_sequence])} with hyperparameters {hyperparameters} after {iterations} iterations\")\n"
      ]
    },
    {
      "cell_type": "markdown",
      "id": "86a46201",
      "metadata": {
        "id": "86a46201"
      },
      "source": [
        "## 7. Summary and Next Steps\n",
        "\n",
        "Congratulations! You've successfully explored the core functionality of PrxteinMPNN. Here's what we covered:\n",
        "\n",
        "### What we learned:\n",
        "- ✅ Loading protein structures and preparing model inputs\n",
        "- ✅ Scoring sequences with ProteinMPNN  \n",
        "- ✅ Sampling new sequences with different strategies\n",
        "- ✅ Leveraging JAX transformations for performance\n",
        "- ✅ Advanced sampling configurations and iterative refinement\n",
        "\n",
        "### Next steps:\n",
        "1. **Try with real data**: Replace the mock examples with actual protein structures\n",
        "2. **Explore the API**: Check out the [full documentation](http://maraxen.github.io/PrxteinMPNN)\n",
        "3. **Performance optimization**: Experiment with different JAX transformations\n",
        "4. **Custom workflows**: Build your own protein design pipelines\n",
        "\n",
        "### Key advantages of PrxteinMPNN:\n",
        "- **🔍 Transparency**: Clear, functional interface to understand model operations\n",
        "- **⚡ Performance**: JAX-powered acceleration with JIT, vmap, and scan\n",
        "- **🧩 Modularity**: Easy to extend and customize for specific use cases\n",
        "- **🔄 Compatibility**: Seamless integration with the JAX ecosystem"
      ]
    },
    {
      "cell_type": "markdown",
      "id": "b976711b",
      "metadata": {
        "id": "b976711b"
      },
      "source": [
        "## Resources\n",
        "\n",
        "- **Documentation**: [http://maraxen.github.io/PrxteinMPNN](http://maraxen.github.io/PrxteinMPNN)\n",
        "- **GitHub Repository**: [https://github.com/maraxen/PrxteinMPNN](https://github.com/maraxen/PrxteinMPNN)\n",
        "- **Issues & Support**: [GitHub Issues](https://github.com/maraxen/PrxteinMPNN/issues)\n",
        "\n",
        "Happy protein designing! 🧬✨"
      ]
    },
    {
      "cell_type": "markdown",
      "id": "c44b6308",
      "metadata": {
        "id": "c44b6308"
      },
      "source": [
        "# Addenda: Comparison to colabdesign (WIP)\n",
        "\n",
        "Stay tuned for the comparison to colabdesign showing parity."
      ]
    }
  ],
  "metadata": {
    "language_info": {
      "name": "python"
    },
    "colab": {
      "provenance": []
    },
    "kernelspec": {
      "name": "python3",
      "display_name": "Python 3"
    }
  },
  "nbformat": 4,
  "nbformat_minor": 5
}