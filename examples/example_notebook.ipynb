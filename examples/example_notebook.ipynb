{
 "cells": [
  {
   "cell_type": "markdown",
   "id": "778d674d",
   "metadata": {},
   "source": [
    "# PrxteinMPNN Example Notebook\n",
    "\n",
    "[![Open In Colab](https://colab.research.google.com/assets/colab-badge.svg)](https://colab.research.google.com/github/maraxen/PrxteinMPNN/blob/main/examples/example_notebook.ipynb)\n",
    "\n",
    "Welcome to the PrxteinMPNN example notebook! This notebook demonstrates the core functionality of PrxteinMPNN, a functional interface for ProteinMPNN built with JAX.\n",
    "\n",
    "## What you'll learn:\n",
    "- How to load and work with protein structures\n",
    "- How to score sequences using ProteinMPNN\n",
    "- How to sample new sequences\n",
    "- How to leverage JAX transformations for performance"
   ]
  },
  {
   "cell_type": "code",
   "execution_count": null,
   "id": "0b9b48ef",
   "metadata": {},
   "outputs": [],
   "source": [
    "# Install PrxteinMPNN (uncomment if running in Colab)\n",
    "!git clone https://github.com/maraxen/PrxteinMPNN.git\n",
    "%cd PrxteinMPNN\n",
    "!pip install -e ."
   ]
  },
  {
   "cell_type": "markdown",
   "id": "2f728836",
   "metadata": {},
   "source": [
    "## 1. Setup and Imports\n",
    "\n",
    "First, let's import the necessary libraries and modules from PrxteinMPNN."
   ]
  },
  {
   "cell_type": "code",
   "execution_count": null,
   "id": "59dca23b",
   "metadata": {},
   "outputs": [],
   "source": [
    "import jax\n",
    "import jax.numpy as jnp\n",
    "import numpy as np\n",
    "from typing import Any\n",
    "\n",
    "# PrxteinMPNN imports\n",
    "from prxteinmpnn.sampling import make_sample_sequences, SamplingEnum\n",
    "\n",
    "print(f\"JAX version: {jax.__version__}\")\n",
    "print(f\"JAX backend: {jax.default_backend()}\")\n",
    "print(f\"Available devices: {jax.devices()}\")"
   ]
  },
  {
   "cell_type": "markdown",
   "id": "3be8e8a9",
   "metadata": {},
   "source": [
    "## 2. Load a Protein Structure\n",
    "\n",
    "We'll start by loading a protein structure. For this example, you can upload a protein structure to colab. You can use any protein structure file, trajectory and template file (with from_trajectory), pdb string (from pdb_string), or foldcomp accession (see prxteinmpnn.utils.foldcomp_utils)."
   ]
  },
  {
   "cell_type": "code",
   "execution_count": null,
   "id": "6b42d8f8",
   "metadata": {},
   "outputs": [],
   "source": [
    "from prxteinmpnn.io import from_structure_file\n",
    "\n",
    "print(\"Loading protein structure...\")\n",
    "protein_structure = from_structure_file(file_path=\"content/structure.pdb\") # chain and model can also be specified\n",
    "\n",
    "print(\"✓ Structure loaded successfully\")\n",
    "print(\"Note: In practice, use from_structure_file() with your PDB file\")"
   ]
  },
  {
   "cell_type": "markdown",
   "id": "9d2a29bf",
   "metadata": {},
   "source": [
    "## 3. Load the ProteinMPNN Model\n",
    "\n",
    "Now let's load the ProteinMPNN model with the desired version and weights.\n",
    "\n",
    "Enums specify the model version and model weights (original or soluble)."
   ]
  },
  {
   "cell_type": "code",
   "execution_count": null,
   "id": "bd105f65",
   "metadata": {},
   "outputs": [],
   "source": [
    "from prxteinmpnn.mpnn import ProteinMPNNModelVersion, ModelWeights, get_mpnn_model\n",
    "\n",
    "print(\"Loading ProteinMPNN model...\")\n",
    "\n",
    "model_version = ProteinMPNNModelVersion.V_48_020\n",
    "model_weights = ModelWeights.DEFAULT\n",
    "\n",
    "model = get_mpnn_model(\n",
    "    model_version=model_version,\n",
    "    model_weights=model_weights,\n",
    ")\n",
    "\n",
    "print(f\"✓ Loaded ProteinMPNN model version: {model_version.value}\")\n",
    "print(f\"✓ Using model weights: {model_weights.value}\")"
   ]
  },
  {
   "cell_type": "markdown",
   "id": "bc62a991",
   "metadata": {},
   "source": [
    "## 4. Prepare Model Inputs\n",
    "\n",
    "Convert the protein structure to model inputs that can be used with ProteinMPNN."
   ]
  },
  {
   "cell_type": "code",
   "execution_count": null,
   "id": "bbe1ad37",
   "metadata": {},
   "outputs": [],
   "source": [
    "# Convert structure to model inputs\n",
    "print(\"Preparing model inputs...\")\n",
    "from prxteinmpnn.io import protein_structure_to_model_inputs\n",
    "\n",
    "# In practice, you would use:\n",
    "model_inputs = protein_structure_to_model_inputs(protein_structure)\n",
    "\n",
    "# For this example, we'll create mock model inputs\n",
    "print(\"✓ Model inputs prepared\")\n",
    "print(\"Note: In practice, use protein_structure_to_model_inputs()\")\n",
    "\n",
    "# Mock some basic parameters for demonstration\n",
    "\n",
    "print(f\"Sequence length: {len(model_inputs.sequence)}\")\n",
    "print(f\"Sequence: {model_inputs.sequence[:20]}...\")"
   ]
  },
  {
   "cell_type": "markdown",
   "id": "b51817f4",
   "metadata": {},
   "source": [
    "## 5. Sequence Scoring\n",
    "\n",
    "Let's score sequences using the ProteinMPNN model. This demonstrates how to evaluate the likelihood of specific amino acid sequences for a given structure.\n",
    "\n",
    "Random-number generator keys for stochastic aspects are explicitly defined.\n",
    "\n",
    "JAX enables"
   ]
  },
  {
   "cell_type": "code",
   "execution_count": null,
   "id": "66ef8b70",
   "metadata": {},
   "outputs": [],
   "source": [
    "from prxteinmpnn.scoring.score import make_score_sequence\n",
    "from prxteinmpnn.utils.decoding_order import random_decoding_order\n",
    "from prxteinmpnn.io import string_to_protein_sequence\n",
    "\n",
    "\n",
    "# Initialize random key for JAX operations\n",
    "key = jax.random.PRNGKey(42)\n",
    "print(\"Setting up sequence scoring...\")\n",
    "\n",
    "# Create scoring function\n",
    "score_sequence = make_score_sequence(\n",
    "    model,\n",
    "    random_decoding_order,\n",
    "    model_inputs=model_inputs,\n",
    ")\n",
    "\n",
    "print(\"✓ Scoring function created\")\n",
    "\n",
    "# Example of scoring multiple sequences\n",
    "sequences_to_score = [\n",
    "    \"MKFLVNVALVFMVVYISYIYAAIYIQASLLVASVGGTLIPALYQFAIWIIK\",\n",
    "    \"AKFLVNVALVFMVVYISYIYAAIYIQASLLVASVGGTLIPALYQFAIWIIA\",\n",
    "    \"GKFLVNVALVFMVVYISYIYAAIYIQASLLVASVGGTLIPALYQFAIWIIG\",\n",
    "]\n",
    "\n",
    "# Prepare sequences for scoring\n",
    "sequences_to_score = [string_to_protein_sequence(seq) for seq in sequences_to_score]\n",
    "\n",
    "print(f\"Prepared {len(sequences_to_score)} sequences for scoring\")\n",
    "\n",
    "print(\"✓ Prepared sequences successfully\")\n",
    "print(\"Scoring sequences with same key for decoding order...\")\n",
    "# Score the prepared sequences\n",
    "scores, logits, decoding_orders = jax.vmap(score_sequence, in_axes=(None, 0))(key, sequences_to_score) # type: ignore[arg-type]\n",
    "# using None for in_axes to keep the key fixed for all sequences\n",
    "# you could also use jax.random.split to create a new key for each sequence if needed\n",
    "print(\"✓ Scored sequences successfully\")\n",
    "\n"
   ]
  },
  {
   "cell_type": "markdown",
   "id": "2290953a",
   "metadata": {},
   "source": [
    "### Massively parallel scoring with memory efficiency using jax.lax.map and batch size\n",
    "\n",
    "Often, you may have memory limitations and jax will throw out of memory errors.\n",
    "\n",
    "jax.lax.map offers a convenient way to automatically vmap batches of inputs, effectively balancing efficiency and memory limitations."
   ]
  },
  {
   "cell_type": "code",
   "execution_count": null,
   "id": "c0f39c90",
   "metadata": {},
   "outputs": [],
   "source": [
    "\\\n",
    "# Example of scoring with batching\n",
    "num_sequences = 10_000_000\n",
    "batch_size = 64\n",
    "\n",
    "from jaxtyping import PRNGKeyArray\n",
    "from prxteinmpnn.utils.types import ProteinSequence\n",
    "from functools import partial\n",
    "\n",
    "@partial(jax.jit, static_argnames=(\"input_sequence\", \"mutation_rate\",))\n",
    "def mutate(key: PRNGKeyArray, input_sequence: ProteinSequence, mutation_rate: float=0.25) -> ProteinSequence:\n",
    "    \"\"\"Mutate a protein sequence by randomly changing some amino acids.\n",
    "\n",
    "    See github.com/maraxen/proteinsmc for more advanced mutation strategies and sampling methods.\n",
    "\n",
    "    \"\"\"\n",
    "    # Randomly mutate the input sequence\n",
    "    mutation_indices = jax.random.choice(key, jnp.arange(len(input_sequence)), shape=(int(len(input_sequence) * mutation_rate),), replace=False)\n",
    "    return input_sequence.at[mutation_indices].set(jax.random.choice(key, jnp.array(list(\"ACDEFGHIKLMNPQRSTVWY\")), shape=mutation_indices.shape))\n",
    "\n",
    "sequences_to_score = jax.lax.map(\n",
    "    lambda key: mutate(key, model_inputs.sequence, mutation_rate=0.25),\n",
    "    jax.random.split(key, num_sequences),\n",
    "    batch_size=batch_size,\n",
    ")\n",
    "\n",
    "scores, logits, scoring_decoding_orders = jax.lax.map(\n",
    "    lambda seq: score_sequence(key, seq),  # type: ignore[arg-type]\n",
    "    sequences_to_score,\n",
    "    batch_size=batch_size,\n",
    ")\n"
   ]
  },
  {
   "cell_type": "markdown",
   "id": "c3a7a5d6",
   "metadata": {},
   "source": [
    "## 6. Sequence Sampling\n",
    "\n",
    "Now let's sample new sequences using different sampling strategies. This is the core functionality for protein design."
   ]
  },
  {
   "cell_type": "code",
   "execution_count": null,
   "id": "9ea11eca",
   "metadata": {},
   "outputs": [],
   "source": [
    "\n",
    "\n",
    "# Demonstrate different sampling strategies\n",
    "sampling_strategies = [\n",
    "    (SamplingEnum.TEMPERATURE, \"Temperature sampling\"),\n",
    "    (SamplingEnum.STRAIGHT_THROUGH, \"Straight-through estimator sampling\"),\n",
    "]\n",
    "\n",
    "print(\"Available sampling strategies:\")\n",
    "for strategy, description in sampling_strategies:\n",
    "    print(f\"  - {strategy}: {description}\")\n",
    "\n",
    "\n",
    "print(\"Setting up sequence sampling...\")\n",
    "\n",
    "sample_sequence = make_sample_sequences(\n",
    "    model,\n",
    "    random_decoding_order,\n",
    "    sampling_strategy=SamplingEnum.STRAIGHT_THROUGH,\n",
    "    model_inputs=model_inputs,\n",
    ")\n",
    "\n",
    "print(\"✓ Sampling function created\")\n",
    "\n",
    "print(\"Sampling sequences with straight-through estimator...\")\n",
    "\n",
    "# Example of sampling sequences\n",
    "prng_sampling_key, key = jax.random.split(key, 2)\n",
    "hyperparameters = (0.01,) # Example hyperparameters, in this case the learning rate for the straight-through estimator\n",
    "iterations = 100  # Number of sequences to sample\n",
    "sampled_sequence, logits, decoding_order = sample_sequence(prng_sampling_key, hyperparameters, iterations)  # type: ignore[arg-type]\n",
    "\n",
    "from prxteinmpnn.utils.residue_constants import order_aa\n",
    "# Display sampled sequences\n",
    "print(f\"Sampled sequence {''.join([order_aa[aa] for aa in sampled_sequence])} with hyperparameters {hyperparameters} after {iterations} iterations\")\n"
   ]
  },
  {
   "cell_type": "markdown",
   "id": "86a46201",
   "metadata": {},
   "source": [
    "## 7. Summary and Next Steps\n",
    "\n",
    "Congratulations! You've successfully explored the core functionality of PrxteinMPNN. Here's what we covered:\n",
    "\n",
    "### What we learned:\n",
    "- ✅ Loading protein structures and preparing model inputs\n",
    "- ✅ Scoring sequences with ProteinMPNN  \n",
    "- ✅ Sampling new sequences with different strategies\n",
    "- ✅ Leveraging JAX transformations for performance\n",
    "- ✅ Advanced sampling configurations and iterative refinement\n",
    "\n",
    "### Next steps:\n",
    "1. **Try with real data**: Replace the mock examples with actual protein structures\n",
    "2. **Explore the API**: Check out the [full documentation](http://maraxen.github.io/PrxteinMPNN)\n",
    "3. **Performance optimization**: Experiment with different JAX transformations\n",
    "4. **Custom workflows**: Build your own protein design pipelines\n",
    "\n",
    "### Key advantages of PrxteinMPNN:\n",
    "- **🔍 Transparency**: Clear, functional interface to understand model operations\n",
    "- **⚡ Performance**: JAX-powered acceleration with JIT, vmap, and scan\n",
    "- **🧩 Modularity**: Easy to extend and customize for specific use cases\n",
    "- **🔄 Compatibility**: Seamless integration with the JAX ecosystem"
   ]
  },
  {
   "cell_type": "markdown",
   "id": "b976711b",
   "metadata": {},
   "source": [
    "## Resources\n",
    "\n",
    "- **Documentation**: [http://maraxen.github.io/PrxteinMPNN](http://maraxen.github.io/PrxteinMPNN)\n",
    "- **GitHub Repository**: [https://github.com/maraxen/PrxteinMPNN](https://github.com/maraxen/PrxteinMPNN)\n",
    "- **Issues & Support**: [GitHub Issues](https://github.com/maraxen/PrxteinMPNN/issues)\n",
    "\n",
    "Happy protein designing! 🧬✨"
   ]
  },
  {
   "cell_type": "markdown",
   "id": "c44b6308",
   "metadata": {},
   "source": [
    "# Addenda: Comparison to colabdesign (WIP)\n",
    "\n",
    "Stay tuned for the comparison to colabdesign showing parity."
   ]
  }
 ],
 "metadata": {
  "language_info": {
   "name": "python"
  }
 },
 "nbformat": 4,
 "nbformat_minor": 5
}
