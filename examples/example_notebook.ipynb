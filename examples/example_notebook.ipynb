{
  "cells": [
    {
      "cell_type": "markdown",
      "id": "778d674d",
      "metadata": {
        "id": "778d674d"
      },
      "source": [
        "# PrxteinMPNN Example Notebook\n",
        "\n",
        "[![Open In Colab](https://colab.research.google.com/assets/colab-badge.svg)](https://colab.research.google.com/github/maraxen/PrxteinMPNN/blob/main/examples/example_notebook.ipynb)\n",
        "\n",
        "Welcome to the PrxteinMPNN example notebook! This notebook demonstrates the core functionality of PrxteinMPNN, a functional interface for ProteinMPNN built with JAX.\n",
        "\n",
        "## What you'll learn:\n",
        "- How to load and work with protein structures\n",
        "- How to score sequences using ProteinMPNN\n",
        "- How to sample new sequences\n",
        "- How to leverage JAX transformations for performance"
      ]
    },
    {
      "cell_type": "code",
      "execution_count": 1,
      "id": "0b9b48ef",
      "metadata": {
        "collapsed": true,
        "id": "0b9b48ef",
        "outputId": "a0b08b1b-06fb-420f-ad63-990c11d12b55",
        "colab": {
          "base_uri": "https://localhost:8080/",
          "height": 1000
        }
      },
      "outputs": [
        {
          "output_type": "stream",
          "name": "stdout",
          "text": [
            "Cloning into 'PrxteinMPNN'...\n",
            "remote: Enumerating objects: 1166, done.\u001b[K\n",
            "remote: Counting objects: 100% (657/657), done.\u001b[K\n",
            "remote: Compressing objects: 100% (334/334), done.\u001b[K\n",
            "remote: Total 1166 (delta 299), reused 561 (delta 249), pack-reused 509 (from 1)\u001b[K\n",
            "Receiving objects: 100% (1166/1166), 49.21 MiB | 17.12 MiB/s, done.\n",
            "Resolving deltas: 100% (587/587), done.\n",
            "/content/PrxteinMPNN\n",
            "Obtaining file:///content/PrxteinMPNN\n",
            "  Installing build dependencies ... \u001b[?25l\u001b[?25hdone\n",
            "  Checking if build backend supports build_editable ... \u001b[?25l\u001b[?25hdone\n",
            "  Getting requirements to build editable ... \u001b[?25l\u001b[?25hdone\n",
            "  Preparing editable metadata (pyproject.toml) ... \u001b[?25l\u001b[?25hdone\n",
            "Requirement already satisfied: jax in /usr/local/lib/python3.11/dist-packages (from prxteinmpnn==0.1.0) (0.5.2)\n",
            "Collecting jaxtyping (from prxteinmpnn==0.1.0)\n",
            "  Downloading jaxtyping-0.3.2-py3-none-any.whl.metadata (7.0 kB)\n",
            "Requirement already satisfied: jaxlib in /usr/local/lib/python3.11/dist-packages (from prxteinmpnn==0.1.0) (0.5.1)\n",
            "Requirement already satisfied: joblib in /usr/local/lib/python3.11/dist-packages (from prxteinmpnn==0.1.0) (1.5.1)\n",
            "Requirement already satisfied: flax in /usr/local/lib/python3.11/dist-packages (from prxteinmpnn==0.1.0) (0.10.6)\n",
            "Collecting biotite (from prxteinmpnn==0.1.0)\n",
            "  Downloading biotite-1.4.0-cp311-cp311-manylinux_2_17_x86_64.manylinux2014_x86_64.whl.metadata (5.5 kB)\n",
            "Collecting foldcomp (from prxteinmpnn==0.1.0)\n",
            "  Downloading foldcomp-0.1.0-cp311-cp311-manylinux_2_24_x86_64.manylinux_2_28_x86_64.whl.metadata (10.0 kB)\n",
            "Collecting biotraj<2.0,>=1.0 (from biotite->prxteinmpnn==0.1.0)\n",
            "  Downloading biotraj-1.2.2-cp311-cp311-manylinux_2_17_x86_64.manylinux2014_x86_64.whl.metadata (32 kB)\n",
            "Requirement already satisfied: msgpack>=0.5.6 in /usr/local/lib/python3.11/dist-packages (from biotite->prxteinmpnn==0.1.0) (1.1.1)\n",
            "Requirement already satisfied: networkx>=2.0 in /usr/local/lib/python3.11/dist-packages (from biotite->prxteinmpnn==0.1.0) (3.5)\n",
            "Requirement already satisfied: numpy>=1.25 in /usr/local/lib/python3.11/dist-packages (from biotite->prxteinmpnn==0.1.0) (2.0.2)\n",
            "Requirement already satisfied: packaging>=24.0 in /usr/local/lib/python3.11/dist-packages (from biotite->prxteinmpnn==0.1.0) (25.0)\n",
            "Requirement already satisfied: requests>=2.12 in /usr/local/lib/python3.11/dist-packages (from biotite->prxteinmpnn==0.1.0) (2.32.3)\n",
            "Requirement already satisfied: optax in /usr/local/lib/python3.11/dist-packages (from flax->prxteinmpnn==0.1.0) (0.2.5)\n",
            "Requirement already satisfied: orbax-checkpoint in /usr/local/lib/python3.11/dist-packages (from flax->prxteinmpnn==0.1.0) (0.11.19)\n",
            "Requirement already satisfied: tensorstore in /usr/local/lib/python3.11/dist-packages (from flax->prxteinmpnn==0.1.0) (0.1.74)\n",
            "Requirement already satisfied: rich>=11.1 in /usr/local/lib/python3.11/dist-packages (from flax->prxteinmpnn==0.1.0) (13.9.4)\n",
            "Requirement already satisfied: typing_extensions>=4.2 in /usr/local/lib/python3.11/dist-packages (from flax->prxteinmpnn==0.1.0) (4.14.1)\n",
            "Requirement already satisfied: PyYAML>=5.4.1 in /usr/local/lib/python3.11/dist-packages (from flax->prxteinmpnn==0.1.0) (6.0.2)\n",
            "Requirement already satisfied: treescope>=0.1.7 in /usr/local/lib/python3.11/dist-packages (from flax->prxteinmpnn==0.1.0) (0.1.9)\n",
            "Requirement already satisfied: ml_dtypes>=0.4.0 in /usr/local/lib/python3.11/dist-packages (from jax->prxteinmpnn==0.1.0) (0.4.1)\n",
            "Requirement already satisfied: opt_einsum in /usr/local/lib/python3.11/dist-packages (from jax->prxteinmpnn==0.1.0) (3.4.0)\n",
            "Requirement already satisfied: scipy>=1.11.1 in /usr/local/lib/python3.11/dist-packages (from jax->prxteinmpnn==0.1.0) (1.16.0)\n",
            "Requirement already satisfied: httpx>=0.23.0 in /usr/local/lib/python3.11/dist-packages (from foldcomp->prxteinmpnn==0.1.0) (0.28.1)\n",
            "Collecting wadler-lindig>=0.1.3 (from jaxtyping->prxteinmpnn==0.1.0)\n",
            "  Downloading wadler_lindig-0.1.7-py3-none-any.whl.metadata (17 kB)\n",
            "Requirement already satisfied: anyio in /usr/local/lib/python3.11/dist-packages (from httpx>=0.23.0->foldcomp->prxteinmpnn==0.1.0) (4.9.0)\n",
            "Requirement already satisfied: certifi in /usr/local/lib/python3.11/dist-packages (from httpx>=0.23.0->foldcomp->prxteinmpnn==0.1.0) (2025.7.14)\n",
            "Requirement already satisfied: httpcore==1.* in /usr/local/lib/python3.11/dist-packages (from httpx>=0.23.0->foldcomp->prxteinmpnn==0.1.0) (1.0.9)\n",
            "Requirement already satisfied: idna in /usr/local/lib/python3.11/dist-packages (from httpx>=0.23.0->foldcomp->prxteinmpnn==0.1.0) (3.10)\n",
            "Requirement already satisfied: h11>=0.16 in /usr/local/lib/python3.11/dist-packages (from httpcore==1.*->httpx>=0.23.0->foldcomp->prxteinmpnn==0.1.0) (0.16.0)\n",
            "Requirement already satisfied: charset-normalizer<4,>=2 in /usr/local/lib/python3.11/dist-packages (from requests>=2.12->biotite->prxteinmpnn==0.1.0) (3.4.2)\n",
            "Requirement already satisfied: urllib3<3,>=1.21.1 in /usr/local/lib/python3.11/dist-packages (from requests>=2.12->biotite->prxteinmpnn==0.1.0) (2.5.0)\n",
            "Requirement already satisfied: markdown-it-py>=2.2.0 in /usr/local/lib/python3.11/dist-packages (from rich>=11.1->flax->prxteinmpnn==0.1.0) (3.0.0)\n",
            "Requirement already satisfied: pygments<3.0.0,>=2.13.0 in /usr/local/lib/python3.11/dist-packages (from rich>=11.1->flax->prxteinmpnn==0.1.0) (2.19.2)\n",
            "Requirement already satisfied: absl-py>=0.7.1 in /usr/local/lib/python3.11/dist-packages (from optax->flax->prxteinmpnn==0.1.0) (1.4.0)\n",
            "Requirement already satisfied: chex>=0.1.87 in /usr/local/lib/python3.11/dist-packages (from optax->flax->prxteinmpnn==0.1.0) (0.1.90)\n",
            "Requirement already satisfied: etils[epath,epy] in /usr/local/lib/python3.11/dist-packages (from orbax-checkpoint->flax->prxteinmpnn==0.1.0) (1.13.0)\n",
            "Requirement already satisfied: nest_asyncio in /usr/local/lib/python3.11/dist-packages (from orbax-checkpoint->flax->prxteinmpnn==0.1.0) (1.6.0)\n",
            "Requirement already satisfied: protobuf in /usr/local/lib/python3.11/dist-packages (from orbax-checkpoint->flax->prxteinmpnn==0.1.0) (5.29.5)\n",
            "Requirement already satisfied: humanize in /usr/local/lib/python3.11/dist-packages (from orbax-checkpoint->flax->prxteinmpnn==0.1.0) (4.12.3)\n",
            "Requirement already satisfied: simplejson>=3.16.0 in /usr/local/lib/python3.11/dist-packages (from orbax-checkpoint->flax->prxteinmpnn==0.1.0) (3.20.1)\n",
            "Requirement already satisfied: toolz>=0.9.0 in /usr/local/lib/python3.11/dist-packages (from chex>=0.1.87->optax->flax->prxteinmpnn==0.1.0) (0.12.1)\n",
            "Requirement already satisfied: mdurl~=0.1 in /usr/local/lib/python3.11/dist-packages (from markdown-it-py>=2.2.0->rich>=11.1->flax->prxteinmpnn==0.1.0) (0.1.2)\n",
            "Requirement already satisfied: sniffio>=1.1 in /usr/local/lib/python3.11/dist-packages (from anyio->httpx>=0.23.0->foldcomp->prxteinmpnn==0.1.0) (1.3.1)\n",
            "Requirement already satisfied: fsspec in /usr/local/lib/python3.11/dist-packages (from etils[epath,epy]->orbax-checkpoint->flax->prxteinmpnn==0.1.0) (2025.3.0)\n",
            "Requirement already satisfied: importlib_resources in /usr/local/lib/python3.11/dist-packages (from etils[epath,epy]->orbax-checkpoint->flax->prxteinmpnn==0.1.0) (6.5.2)\n",
            "Requirement already satisfied: zipp in /usr/local/lib/python3.11/dist-packages (from etils[epath,epy]->orbax-checkpoint->flax->prxteinmpnn==0.1.0) (3.23.0)\n",
            "Downloading biotite-1.4.0-cp311-cp311-manylinux_2_17_x86_64.manylinux2014_x86_64.whl (54.4 MB)\n",
            "\u001b[2K   \u001b[90m━━━━━━━━━━━━━━━━━━━━━━━━━━━━━━━━━━━━━━━━\u001b[0m \u001b[32m54.4/54.4 MB\u001b[0m \u001b[31m12.6 MB/s\u001b[0m eta \u001b[36m0:00:00\u001b[0m\n",
            "\u001b[?25hDownloading foldcomp-0.1.0-cp311-cp311-manylinux_2_24_x86_64.manylinux_2_28_x86_64.whl (261 kB)\n",
            "\u001b[2K   \u001b[90m━━━━━━━━━━━━━━━━━━━━━━━━━━━━━━━━━━━━━━━━\u001b[0m \u001b[32m261.1/261.1 kB\u001b[0m \u001b[31m19.5 MB/s\u001b[0m eta \u001b[36m0:00:00\u001b[0m\n",
            "\u001b[?25hDownloading jaxtyping-0.3.2-py3-none-any.whl (55 kB)\n",
            "\u001b[2K   \u001b[90m━━━━━━━━━━━━━━━━━━━━━━━━━━━━━━━━━━━━━━━━\u001b[0m \u001b[32m55.4/55.4 kB\u001b[0m \u001b[31m4.3 MB/s\u001b[0m eta \u001b[36m0:00:00\u001b[0m\n",
            "\u001b[?25hDownloading biotraj-1.2.2-cp311-cp311-manylinux_2_17_x86_64.manylinux2014_x86_64.whl (2.2 MB)\n",
            "\u001b[2K   \u001b[90m━━━━━━━━━━━━━━━━━━━━━━━━━━━━━━━━━━━━━━━━\u001b[0m \u001b[32m2.2/2.2 MB\u001b[0m \u001b[31m81.6 MB/s\u001b[0m eta \u001b[36m0:00:00\u001b[0m\n",
            "\u001b[?25hDownloading wadler_lindig-0.1.7-py3-none-any.whl (20 kB)\n",
            "Building wheels for collected packages: prxteinmpnn\n",
            "  Building editable for prxteinmpnn (pyproject.toml) ... \u001b[?25l\u001b[?25hdone\n",
            "  Created wheel for prxteinmpnn: filename=prxteinmpnn-0.1.0-0.editable-py3-none-any.whl size=2457 sha256=40cdf4ec091b5ebd2111e631022e037cc54a4105524de77afc64b3a50f83a3e5\n",
            "  Stored in directory: /tmp/pip-ephem-wheel-cache-kxyrg391/wheels/13/42/73/5fa295ef2401e6d0d8b6804f217fba96a210485d145c479f53\n",
            "Successfully built prxteinmpnn\n",
            "Installing collected packages: wadler-lindig, jaxtyping, biotraj, foldcomp, biotite, prxteinmpnn\n",
            "Successfully installed biotite-1.4.0 biotraj-1.2.2 foldcomp-0.1.0 jaxtyping-0.3.2 prxteinmpnn-0.1.0 wadler-lindig-0.1.7\n"
          ]
        },
        {
          "output_type": "error",
          "ename": "KeyboardInterrupt",
          "evalue": "",
          "traceback": [
            "\u001b[0;31m---------------------------------------------------------------------------\u001b[0m",
            "\u001b[0;31mKeyboardInterrupt\u001b[0m                         Traceback (most recent call last)",
            "\u001b[0;32m/tmp/ipython-input-2413066413.py\u001b[0m in \u001b[0;36m<cell line: 0>\u001b[0;34m()\u001b[0m\n\u001b[1;32m      2\u001b[0m \u001b[0mget_ipython\u001b[0m\u001b[0;34m(\u001b[0m\u001b[0;34m)\u001b[0m\u001b[0;34m.\u001b[0m\u001b[0msystem\u001b[0m\u001b[0;34m(\u001b[0m\u001b[0;34m'git clone https://github.com/maraxen/PrxteinMPNN.git'\u001b[0m\u001b[0;34m)\u001b[0m\u001b[0;34m\u001b[0m\u001b[0;34m\u001b[0m\u001b[0m\n\u001b[1;32m      3\u001b[0m \u001b[0mget_ipython\u001b[0m\u001b[0;34m(\u001b[0m\u001b[0;34m)\u001b[0m\u001b[0;34m.\u001b[0m\u001b[0mrun_line_magic\u001b[0m\u001b[0;34m(\u001b[0m\u001b[0;34m'cd'\u001b[0m\u001b[0;34m,\u001b[0m \u001b[0;34m'PrxteinMPNN'\u001b[0m\u001b[0;34m)\u001b[0m\u001b[0;34m\u001b[0m\u001b[0;34m\u001b[0m\u001b[0m\n\u001b[0;32m----> 4\u001b[0;31m \u001b[0mget_ipython\u001b[0m\u001b[0;34m(\u001b[0m\u001b[0;34m)\u001b[0m\u001b[0;34m.\u001b[0m\u001b[0msystem\u001b[0m\u001b[0;34m(\u001b[0m\u001b[0;34m'pip install -e .'\u001b[0m\u001b[0;34m)\u001b[0m\u001b[0;34m\u001b[0m\u001b[0;34m\u001b[0m\u001b[0m\n\u001b[0m",
            "\u001b[0;32m/usr/local/lib/python3.11/dist-packages/google/colab/_shell.py\u001b[0m in \u001b[0;36msystem\u001b[0;34m(self, *args, **kwargs)\u001b[0m\n\u001b[1;32m    150\u001b[0m \u001b[0;34m\u001b[0m\u001b[0m\n\u001b[1;32m    151\u001b[0m     \u001b[0;32mif\u001b[0m \u001b[0mpip_warn\u001b[0m\u001b[0;34m:\u001b[0m\u001b[0;34m\u001b[0m\u001b[0;34m\u001b[0m\u001b[0m\n\u001b[0;32m--> 152\u001b[0;31m       \u001b[0m_pip\u001b[0m\u001b[0;34m.\u001b[0m\u001b[0mprint_previous_import_warning\u001b[0m\u001b[0;34m(\u001b[0m\u001b[0moutput\u001b[0m\u001b[0;34m)\u001b[0m\u001b[0;34m\u001b[0m\u001b[0;34m\u001b[0m\u001b[0m\n\u001b[0m\u001b[1;32m    153\u001b[0m \u001b[0;34m\u001b[0m\u001b[0m\n\u001b[1;32m    154\u001b[0m   \u001b[0;32mdef\u001b[0m \u001b[0m_send_error\u001b[0m\u001b[0;34m(\u001b[0m\u001b[0mself\u001b[0m\u001b[0;34m,\u001b[0m \u001b[0mexc_content\u001b[0m\u001b[0;34m)\u001b[0m\u001b[0;34m:\u001b[0m\u001b[0;34m\u001b[0m\u001b[0;34m\u001b[0m\u001b[0m\n",
            "\u001b[0;32m/usr/local/lib/python3.11/dist-packages/google/colab/_pip.py\u001b[0m in \u001b[0;36mprint_previous_import_warning\u001b[0;34m(output)\u001b[0m\n\u001b[1;32m     54\u001b[0m \u001b[0;32mdef\u001b[0m \u001b[0mprint_previous_import_warning\u001b[0m\u001b[0;34m(\u001b[0m\u001b[0moutput\u001b[0m\u001b[0;34m)\u001b[0m\u001b[0;34m:\u001b[0m\u001b[0;34m\u001b[0m\u001b[0;34m\u001b[0m\u001b[0m\n\u001b[1;32m     55\u001b[0m   \u001b[0;34m\"\"\"Prints a warning about previously imported packages.\"\"\"\u001b[0m\u001b[0;34m\u001b[0m\u001b[0;34m\u001b[0m\u001b[0m\n\u001b[0;32m---> 56\u001b[0;31m   \u001b[0mpackages\u001b[0m \u001b[0;34m=\u001b[0m \u001b[0m_previously_imported_packages\u001b[0m\u001b[0;34m(\u001b[0m\u001b[0moutput\u001b[0m\u001b[0;34m)\u001b[0m\u001b[0;34m\u001b[0m\u001b[0;34m\u001b[0m\u001b[0m\n\u001b[0m\u001b[1;32m     57\u001b[0m   \u001b[0;32mif\u001b[0m \u001b[0mpackages\u001b[0m\u001b[0;34m:\u001b[0m\u001b[0;34m\u001b[0m\u001b[0;34m\u001b[0m\u001b[0m\n\u001b[1;32m     58\u001b[0m     \u001b[0;31m# display a list of packages using the colab-display-data mimetype, which\u001b[0m\u001b[0;34m\u001b[0m\u001b[0;34m\u001b[0m\u001b[0m\n",
            "\u001b[0;32m/usr/local/lib/python3.11/dist-packages/google/colab/_pip.py\u001b[0m in \u001b[0;36m_previously_imported_packages\u001b[0;34m(pip_output)\u001b[0m\n\u001b[1;32m     48\u001b[0m \u001b[0;32mdef\u001b[0m \u001b[0m_previously_imported_packages\u001b[0m\u001b[0;34m(\u001b[0m\u001b[0mpip_output\u001b[0m\u001b[0;34m)\u001b[0m\u001b[0;34m:\u001b[0m\u001b[0;34m\u001b[0m\u001b[0;34m\u001b[0m\u001b[0m\n\u001b[1;32m     49\u001b[0m   \u001b[0;34m\"\"\"List all previously imported packages from a pip install.\"\"\"\u001b[0m\u001b[0;34m\u001b[0m\u001b[0;34m\u001b[0m\u001b[0m\n\u001b[0;32m---> 50\u001b[0;31m   \u001b[0minstalled\u001b[0m \u001b[0;34m=\u001b[0m \u001b[0mset\u001b[0m\u001b[0;34m(\u001b[0m\u001b[0m_extract_toplevel_packages\u001b[0m\u001b[0;34m(\u001b[0m\u001b[0mpip_output\u001b[0m\u001b[0;34m)\u001b[0m\u001b[0;34m)\u001b[0m\u001b[0;34m\u001b[0m\u001b[0;34m\u001b[0m\u001b[0m\n\u001b[0m\u001b[1;32m     51\u001b[0m   \u001b[0;32mreturn\u001b[0m \u001b[0msorted\u001b[0m\u001b[0;34m(\u001b[0m\u001b[0minstalled\u001b[0m\u001b[0;34m.\u001b[0m\u001b[0mintersection\u001b[0m\u001b[0;34m(\u001b[0m\u001b[0mset\u001b[0m\u001b[0;34m(\u001b[0m\u001b[0msys\u001b[0m\u001b[0;34m.\u001b[0m\u001b[0mmodules\u001b[0m\u001b[0;34m)\u001b[0m\u001b[0;34m)\u001b[0m\u001b[0;34m)\u001b[0m\u001b[0;34m\u001b[0m\u001b[0;34m\u001b[0m\u001b[0m\n\u001b[1;32m     52\u001b[0m \u001b[0;34m\u001b[0m\u001b[0m\n",
            "\u001b[0;32m/usr/local/lib/python3.11/dist-packages/google/colab/_pip.py\u001b[0m in \u001b[0;36m_extract_toplevel_packages\u001b[0;34m(pip_output)\u001b[0m\n\u001b[1;32m     37\u001b[0m   \u001b[0;34m\"\"\"Extract the list of toplevel packages associated with a pip install.\"\"\"\u001b[0m\u001b[0;34m\u001b[0m\u001b[0;34m\u001b[0m\u001b[0m\n\u001b[1;32m     38\u001b[0m   \u001b[0mtoplevel\u001b[0m \u001b[0;34m=\u001b[0m \u001b[0mcollections\u001b[0m\u001b[0;34m.\u001b[0m\u001b[0mdefaultdict\u001b[0m\u001b[0;34m(\u001b[0m\u001b[0mset\u001b[0m\u001b[0;34m)\u001b[0m\u001b[0;34m\u001b[0m\u001b[0;34m\u001b[0m\u001b[0m\n\u001b[0;32m---> 39\u001b[0;31m   \u001b[0;32mfor\u001b[0m \u001b[0mm\u001b[0m\u001b[0;34m,\u001b[0m \u001b[0mps\u001b[0m \u001b[0;32min\u001b[0m \u001b[0mimportlib\u001b[0m\u001b[0;34m.\u001b[0m\u001b[0mmetadata\u001b[0m\u001b[0;34m.\u001b[0m\u001b[0mpackages_distributions\u001b[0m\u001b[0;34m(\u001b[0m\u001b[0;34m)\u001b[0m\u001b[0;34m.\u001b[0m\u001b[0mitems\u001b[0m\u001b[0;34m(\u001b[0m\u001b[0;34m)\u001b[0m\u001b[0;34m:\u001b[0m\u001b[0;34m\u001b[0m\u001b[0;34m\u001b[0m\u001b[0m\n\u001b[0m\u001b[1;32m     40\u001b[0m     \u001b[0;32mfor\u001b[0m \u001b[0mp\u001b[0m \u001b[0;32min\u001b[0m \u001b[0mps\u001b[0m\u001b[0;34m:\u001b[0m\u001b[0;34m\u001b[0m\u001b[0;34m\u001b[0m\u001b[0m\n\u001b[1;32m     41\u001b[0m       \u001b[0mtoplevel\u001b[0m\u001b[0;34m[\u001b[0m\u001b[0mp\u001b[0m\u001b[0;34m]\u001b[0m\u001b[0;34m.\u001b[0m\u001b[0madd\u001b[0m\u001b[0;34m(\u001b[0m\u001b[0mm\u001b[0m\u001b[0;34m)\u001b[0m\u001b[0;34m\u001b[0m\u001b[0;34m\u001b[0m\u001b[0m\n",
            "\u001b[0;32m/usr/lib/python3.11/importlib/metadata/__init__.py\u001b[0m in \u001b[0;36mpackages_distributions\u001b[0;34m()\u001b[0m\n\u001b[1;32m   1073\u001b[0m     \u001b[0mpkg_to_dist\u001b[0m \u001b[0;34m=\u001b[0m \u001b[0mcollections\u001b[0m\u001b[0;34m.\u001b[0m\u001b[0mdefaultdict\u001b[0m\u001b[0;34m(\u001b[0m\u001b[0mlist\u001b[0m\u001b[0;34m)\u001b[0m\u001b[0;34m\u001b[0m\u001b[0;34m\u001b[0m\u001b[0m\n\u001b[1;32m   1074\u001b[0m     \u001b[0;32mfor\u001b[0m \u001b[0mdist\u001b[0m \u001b[0;32min\u001b[0m \u001b[0mdistributions\u001b[0m\u001b[0;34m(\u001b[0m\u001b[0;34m)\u001b[0m\u001b[0;34m:\u001b[0m\u001b[0;34m\u001b[0m\u001b[0;34m\u001b[0m\u001b[0m\n\u001b[0;32m-> 1075\u001b[0;31m         \u001b[0;32mfor\u001b[0m \u001b[0mpkg\u001b[0m \u001b[0;32min\u001b[0m \u001b[0m_top_level_declared\u001b[0m\u001b[0;34m(\u001b[0m\u001b[0mdist\u001b[0m\u001b[0;34m)\u001b[0m \u001b[0;32mor\u001b[0m \u001b[0m_top_level_inferred\u001b[0m\u001b[0;34m(\u001b[0m\u001b[0mdist\u001b[0m\u001b[0;34m)\u001b[0m\u001b[0;34m:\u001b[0m\u001b[0;34m\u001b[0m\u001b[0;34m\u001b[0m\u001b[0m\n\u001b[0m\u001b[1;32m   1076\u001b[0m             \u001b[0mpkg_to_dist\u001b[0m\u001b[0;34m[\u001b[0m\u001b[0mpkg\u001b[0m\u001b[0;34m]\u001b[0m\u001b[0;34m.\u001b[0m\u001b[0mappend\u001b[0m\u001b[0;34m(\u001b[0m\u001b[0mdist\u001b[0m\u001b[0;34m.\u001b[0m\u001b[0mmetadata\u001b[0m\u001b[0;34m[\u001b[0m\u001b[0;34m'Name'\u001b[0m\u001b[0;34m]\u001b[0m\u001b[0;34m)\u001b[0m\u001b[0;34m\u001b[0m\u001b[0;34m\u001b[0m\u001b[0m\n\u001b[1;32m   1077\u001b[0m     \u001b[0;32mreturn\u001b[0m \u001b[0mdict\u001b[0m\u001b[0;34m(\u001b[0m\u001b[0mpkg_to_dist\u001b[0m\u001b[0;34m)\u001b[0m\u001b[0;34m\u001b[0m\u001b[0;34m\u001b[0m\u001b[0m\n",
            "\u001b[0;32m/usr/lib/python3.11/importlib/metadata/__init__.py\u001b[0m in \u001b[0;36m_top_level_inferred\u001b[0;34m(dist)\u001b[0m\n\u001b[1;32m   1085\u001b[0m     return {\n\u001b[1;32m   1086\u001b[0m         \u001b[0mf\u001b[0m\u001b[0;34m.\u001b[0m\u001b[0mparts\u001b[0m\u001b[0;34m[\u001b[0m\u001b[0;36m0\u001b[0m\u001b[0;34m]\u001b[0m \u001b[0;32mif\u001b[0m \u001b[0mlen\u001b[0m\u001b[0;34m(\u001b[0m\u001b[0mf\u001b[0m\u001b[0;34m.\u001b[0m\u001b[0mparts\u001b[0m\u001b[0;34m)\u001b[0m \u001b[0;34m>\u001b[0m \u001b[0;36m1\u001b[0m \u001b[0;32melse\u001b[0m \u001b[0mf\u001b[0m\u001b[0;34m.\u001b[0m\u001b[0mwith_suffix\u001b[0m\u001b[0;34m(\u001b[0m\u001b[0;34m''\u001b[0m\u001b[0;34m)\u001b[0m\u001b[0;34m.\u001b[0m\u001b[0mname\u001b[0m\u001b[0;34m\u001b[0m\u001b[0;34m\u001b[0m\u001b[0m\n\u001b[0;32m-> 1087\u001b[0;31m         \u001b[0;32mfor\u001b[0m \u001b[0mf\u001b[0m \u001b[0;32min\u001b[0m \u001b[0malways_iterable\u001b[0m\u001b[0;34m(\u001b[0m\u001b[0mdist\u001b[0m\u001b[0;34m.\u001b[0m\u001b[0mfiles\u001b[0m\u001b[0;34m)\u001b[0m\u001b[0;34m\u001b[0m\u001b[0;34m\u001b[0m\u001b[0m\n\u001b[0m\u001b[1;32m   1088\u001b[0m         \u001b[0;32mif\u001b[0m \u001b[0mf\u001b[0m\u001b[0;34m.\u001b[0m\u001b[0msuffix\u001b[0m \u001b[0;34m==\u001b[0m \u001b[0;34m\".py\"\u001b[0m\u001b[0;34m\u001b[0m\u001b[0;34m\u001b[0m\u001b[0m\n\u001b[1;32m   1089\u001b[0m     }\n",
            "\u001b[0;32m/usr/local/lib/python3.11/dist-packages/importlib_metadata/__init__.py\u001b[0m in \u001b[0;36mfiles\u001b[0;34m(self)\u001b[0m\n\u001b[1;32m    602\u001b[0m             \u001b[0;32mreturn\u001b[0m \u001b[0mlist\u001b[0m\u001b[0;34m(\u001b[0m\u001b[0mfilter\u001b[0m\u001b[0;34m(\u001b[0m\u001b[0;32mlambda\u001b[0m \u001b[0mpath\u001b[0m\u001b[0;34m:\u001b[0m \u001b[0mpath\u001b[0m\u001b[0;34m.\u001b[0m\u001b[0mlocate\u001b[0m\u001b[0;34m(\u001b[0m\u001b[0;34m)\u001b[0m\u001b[0;34m.\u001b[0m\u001b[0mexists\u001b[0m\u001b[0;34m(\u001b[0m\u001b[0;34m)\u001b[0m\u001b[0;34m,\u001b[0m \u001b[0mpackage_paths\u001b[0m\u001b[0;34m)\u001b[0m\u001b[0;34m)\u001b[0m\u001b[0;34m\u001b[0m\u001b[0;34m\u001b[0m\u001b[0m\n\u001b[1;32m    603\u001b[0m \u001b[0;34m\u001b[0m\u001b[0m\n\u001b[0;32m--> 604\u001b[0;31m         return skip_missing_files(\n\u001b[0m\u001b[1;32m    605\u001b[0m             make_files(\n\u001b[1;32m    606\u001b[0m                 \u001b[0mself\u001b[0m\u001b[0;34m.\u001b[0m\u001b[0m_read_files_distinfo\u001b[0m\u001b[0;34m(\u001b[0m\u001b[0;34m)\u001b[0m\u001b[0;34m\u001b[0m\u001b[0;34m\u001b[0m\u001b[0m\n",
            "\u001b[0;32m/usr/local/lib/python3.11/dist-packages/importlib_metadata/_functools.py\u001b[0m in \u001b[0;36mwrapper\u001b[0;34m(param, *args, **kwargs)\u001b[0m\n\u001b[1;32m    100\u001b[0m     \u001b[0;32mdef\u001b[0m \u001b[0mwrapper\u001b[0m\u001b[0;34m(\u001b[0m\u001b[0mparam\u001b[0m\u001b[0;34m,\u001b[0m \u001b[0;34m*\u001b[0m\u001b[0margs\u001b[0m\u001b[0;34m,\u001b[0m \u001b[0;34m**\u001b[0m\u001b[0mkwargs\u001b[0m\u001b[0;34m)\u001b[0m\u001b[0;34m:\u001b[0m\u001b[0;34m\u001b[0m\u001b[0;34m\u001b[0m\u001b[0m\n\u001b[1;32m    101\u001b[0m         \u001b[0;32mif\u001b[0m \u001b[0mparam\u001b[0m \u001b[0;32mis\u001b[0m \u001b[0;32mnot\u001b[0m \u001b[0;32mNone\u001b[0m\u001b[0;34m:\u001b[0m\u001b[0;34m\u001b[0m\u001b[0;34m\u001b[0m\u001b[0m\n\u001b[0;32m--> 102\u001b[0;31m             \u001b[0;32mreturn\u001b[0m \u001b[0mfunc\u001b[0m\u001b[0;34m(\u001b[0m\u001b[0mparam\u001b[0m\u001b[0;34m,\u001b[0m \u001b[0;34m*\u001b[0m\u001b[0margs\u001b[0m\u001b[0;34m,\u001b[0m \u001b[0;34m**\u001b[0m\u001b[0mkwargs\u001b[0m\u001b[0;34m)\u001b[0m\u001b[0;34m\u001b[0m\u001b[0;34m\u001b[0m\u001b[0m\n\u001b[0m\u001b[1;32m    103\u001b[0m \u001b[0;34m\u001b[0m\u001b[0m\n\u001b[1;32m    104\u001b[0m     \u001b[0;32mreturn\u001b[0m \u001b[0mwrapper\u001b[0m\u001b[0;34m\u001b[0m\u001b[0;34m\u001b[0m\u001b[0m\n",
            "\u001b[0;32m/usr/local/lib/python3.11/dist-packages/importlib_metadata/__init__.py\u001b[0m in \u001b[0;36mskip_missing_files\u001b[0;34m(package_paths)\u001b[0m\n\u001b[1;32m    600\u001b[0m         \u001b[0;34m@\u001b[0m\u001b[0mpass_none\u001b[0m\u001b[0;34m\u001b[0m\u001b[0;34m\u001b[0m\u001b[0m\n\u001b[1;32m    601\u001b[0m         \u001b[0;32mdef\u001b[0m \u001b[0mskip_missing_files\u001b[0m\u001b[0;34m(\u001b[0m\u001b[0mpackage_paths\u001b[0m\u001b[0;34m)\u001b[0m\u001b[0;34m:\u001b[0m\u001b[0;34m\u001b[0m\u001b[0;34m\u001b[0m\u001b[0m\n\u001b[0;32m--> 602\u001b[0;31m             \u001b[0;32mreturn\u001b[0m \u001b[0mlist\u001b[0m\u001b[0;34m(\u001b[0m\u001b[0mfilter\u001b[0m\u001b[0;34m(\u001b[0m\u001b[0;32mlambda\u001b[0m \u001b[0mpath\u001b[0m\u001b[0;34m:\u001b[0m \u001b[0mpath\u001b[0m\u001b[0;34m.\u001b[0m\u001b[0mlocate\u001b[0m\u001b[0;34m(\u001b[0m\u001b[0;34m)\u001b[0m\u001b[0;34m.\u001b[0m\u001b[0mexists\u001b[0m\u001b[0;34m(\u001b[0m\u001b[0;34m)\u001b[0m\u001b[0;34m,\u001b[0m \u001b[0mpackage_paths\u001b[0m\u001b[0;34m)\u001b[0m\u001b[0;34m)\u001b[0m\u001b[0;34m\u001b[0m\u001b[0;34m\u001b[0m\u001b[0m\n\u001b[0m\u001b[1;32m    603\u001b[0m \u001b[0;34m\u001b[0m\u001b[0m\n\u001b[1;32m    604\u001b[0m         return skip_missing_files(\n",
            "\u001b[0;32m/usr/local/lib/python3.11/dist-packages/importlib_metadata/__init__.py\u001b[0m in \u001b[0;36m<lambda>\u001b[0;34m(path)\u001b[0m\n\u001b[1;32m    600\u001b[0m         \u001b[0;34m@\u001b[0m\u001b[0mpass_none\u001b[0m\u001b[0;34m\u001b[0m\u001b[0;34m\u001b[0m\u001b[0m\n\u001b[1;32m    601\u001b[0m         \u001b[0;32mdef\u001b[0m \u001b[0mskip_missing_files\u001b[0m\u001b[0;34m(\u001b[0m\u001b[0mpackage_paths\u001b[0m\u001b[0;34m)\u001b[0m\u001b[0;34m:\u001b[0m\u001b[0;34m\u001b[0m\u001b[0;34m\u001b[0m\u001b[0m\n\u001b[0;32m--> 602\u001b[0;31m             \u001b[0;32mreturn\u001b[0m \u001b[0mlist\u001b[0m\u001b[0;34m(\u001b[0m\u001b[0mfilter\u001b[0m\u001b[0;34m(\u001b[0m\u001b[0;32mlambda\u001b[0m \u001b[0mpath\u001b[0m\u001b[0;34m:\u001b[0m \u001b[0mpath\u001b[0m\u001b[0;34m.\u001b[0m\u001b[0mlocate\u001b[0m\u001b[0;34m(\u001b[0m\u001b[0;34m)\u001b[0m\u001b[0;34m.\u001b[0m\u001b[0mexists\u001b[0m\u001b[0;34m(\u001b[0m\u001b[0;34m)\u001b[0m\u001b[0;34m,\u001b[0m \u001b[0mpackage_paths\u001b[0m\u001b[0;34m)\u001b[0m\u001b[0;34m)\u001b[0m\u001b[0;34m\u001b[0m\u001b[0;34m\u001b[0m\u001b[0m\n\u001b[0m\u001b[1;32m    603\u001b[0m \u001b[0;34m\u001b[0m\u001b[0m\n\u001b[1;32m    604\u001b[0m         return skip_missing_files(\n",
            "\u001b[0;32m/usr/lib/python3.11/pathlib.py\u001b[0m in \u001b[0;36mexists\u001b[0;34m(self)\u001b[0m\n\u001b[1;32m   1233\u001b[0m         \"\"\"\n\u001b[1;32m   1234\u001b[0m         \u001b[0;32mtry\u001b[0m\u001b[0;34m:\u001b[0m\u001b[0;34m\u001b[0m\u001b[0;34m\u001b[0m\u001b[0m\n\u001b[0;32m-> 1235\u001b[0;31m             \u001b[0mself\u001b[0m\u001b[0;34m.\u001b[0m\u001b[0mstat\u001b[0m\u001b[0;34m(\u001b[0m\u001b[0;34m)\u001b[0m\u001b[0;34m\u001b[0m\u001b[0;34m\u001b[0m\u001b[0m\n\u001b[0m\u001b[1;32m   1236\u001b[0m         \u001b[0;32mexcept\u001b[0m \u001b[0mOSError\u001b[0m \u001b[0;32mas\u001b[0m \u001b[0me\u001b[0m\u001b[0;34m:\u001b[0m\u001b[0;34m\u001b[0m\u001b[0;34m\u001b[0m\u001b[0m\n\u001b[1;32m   1237\u001b[0m             \u001b[0;32mif\u001b[0m \u001b[0;32mnot\u001b[0m \u001b[0m_ignore_error\u001b[0m\u001b[0;34m(\u001b[0m\u001b[0me\u001b[0m\u001b[0;34m)\u001b[0m\u001b[0;34m:\u001b[0m\u001b[0;34m\u001b[0m\u001b[0;34m\u001b[0m\u001b[0m\n",
            "\u001b[0;32m/usr/lib/python3.11/pathlib.py\u001b[0m in \u001b[0;36mstat\u001b[0;34m(self, follow_symlinks)\u001b[0m\n\u001b[1;32m   1011\u001b[0m         \u001b[0mos\u001b[0m\u001b[0;34m.\u001b[0m\u001b[0mstat\u001b[0m\u001b[0;34m(\u001b[0m\u001b[0;34m)\u001b[0m \u001b[0mdoes\u001b[0m\u001b[0;34m.\u001b[0m\u001b[0;34m\u001b[0m\u001b[0;34m\u001b[0m\u001b[0m\n\u001b[1;32m   1012\u001b[0m         \"\"\"\n\u001b[0;32m-> 1013\u001b[0;31m         \u001b[0;32mreturn\u001b[0m \u001b[0mos\u001b[0m\u001b[0;34m.\u001b[0m\u001b[0mstat\u001b[0m\u001b[0;34m(\u001b[0m\u001b[0mself\u001b[0m\u001b[0;34m,\u001b[0m \u001b[0mfollow_symlinks\u001b[0m\u001b[0;34m=\u001b[0m\u001b[0mfollow_symlinks\u001b[0m\u001b[0;34m)\u001b[0m\u001b[0;34m\u001b[0m\u001b[0;34m\u001b[0m\u001b[0m\n\u001b[0m\u001b[1;32m   1014\u001b[0m \u001b[0;34m\u001b[0m\u001b[0m\n\u001b[1;32m   1015\u001b[0m     \u001b[0;32mdef\u001b[0m \u001b[0mowner\u001b[0m\u001b[0;34m(\u001b[0m\u001b[0mself\u001b[0m\u001b[0;34m)\u001b[0m\u001b[0;34m:\u001b[0m\u001b[0;34m\u001b[0m\u001b[0;34m\u001b[0m\u001b[0m\n",
            "\u001b[0;31mKeyboardInterrupt\u001b[0m: "
          ]
        }
      ],
      "source": [
        "# Install PrxteinMPNN and restart kernel\n",
        "!git clone https://github.com/maraxen/PrxteinMPNN.git\n",
        "%cd PrxteinMPNN\n",
        "!pip install -e ."
      ]
    },
    {
      "cell_type": "markdown",
      "id": "2f728836",
      "metadata": {
        "id": "2f728836"
      },
      "source": [
        "## 1. Setup and Imports\n",
        "\n",
        "First, let's import the necessary libraries and modules from PrxteinMPNN."
      ]
    },
    {
      "cell_type": "code",
      "execution_count": 1,
      "id": "59dca23b",
      "metadata": {
        "id": "59dca23b",
        "outputId": "ed5317a3-cf22-475b-ec55-651585d3e827",
        "colab": {
          "base_uri": "https://localhost:8080/"
        }
      },
      "outputs": [
        {
          "output_type": "stream",
          "name": "stdout",
          "text": [
            "JAX version: 0.5.2\n",
            "JAX backend: cpu\n",
            "Available devices: [CpuDevice(id=0)]\n"
          ]
        }
      ],
      "source": [
        "import jax\n",
        "import jax.numpy as jnp\n",
        "import numpy as np\n",
        "from typing import Any\n",
        "\n",
        "print(f\"JAX version: {jax.__version__}\")\n",
        "print(f\"JAX backend: {jax.default_backend()}\")\n",
        "print(f\"Available devices: {jax.devices()}\")"
      ]
    },
    {
      "cell_type": "code",
      "source": [
        "!wget https://alphafold.ebi.ac.uk/files/AF-P10599-F1-model_v4.pdb"
      ],
      "metadata": {
        "colab": {
          "base_uri": "https://localhost:8080/"
        },
        "id": "x0eg8GURbZpt",
        "outputId": "07f47d6b-d8d9-42f4-9616-8a6a0e2db553"
      },
      "id": "x0eg8GURbZpt",
      "execution_count": 2,
      "outputs": [
        {
          "output_type": "stream",
          "name": "stdout",
          "text": [
            "--2025-08-06 17:37:37--  https://alphafold.ebi.ac.uk/files/AF-P10599-F1-model_v4.pdb\n",
            "Resolving alphafold.ebi.ac.uk (alphafold.ebi.ac.uk)... 34.149.152.8\n",
            "Connecting to alphafold.ebi.ac.uk (alphafold.ebi.ac.uk)|34.149.152.8|:443... connected.\n",
            "HTTP request sent, awaiting response... 200 OK\n",
            "Length: 71117 (69K) [application/octet-stream]\n",
            "Saving to: ‘AF-P10599-F1-model_v4.pdb.1’\n",
            "\n",
            "AF-P10599-F1-model_ 100%[===================>]  69.45K  --.-KB/s    in 0.002s  \n",
            "\n",
            "2025-08-06 17:37:37 (30.2 MB/s) - ‘AF-P10599-F1-model_v4.pdb.1’ saved [71117/71117]\n",
            "\n"
          ]
        }
      ]
    },
    {
      "cell_type": "markdown",
      "id": "3be8e8a9",
      "metadata": {
        "id": "3be8e8a9"
      },
      "source": [
        "## 2. Load a Protein Structure\n",
        "\n",
        "We'll start by loading a protein structure. For this example, you can upload a protein structure to colab. You can use any protein structure file, trajectory and template file (with from_trajectory), pdb string (from pdb_string), or foldcomp accession (see prxteinmpnn.utils.foldcomp_utils)."
      ]
    },
    {
      "cell_type": "code",
      "execution_count": 2,
      "id": "6b42d8f8",
      "metadata": {
        "id": "6b42d8f8",
        "outputId": "2657c0ba-cfa8-4c44-eb96-54e7d52a1818",
        "colab": {
          "base_uri": "https://localhost:8080/"
        }
      },
      "outputs": [
        {
          "output_type": "stream",
          "name": "stdout",
          "text": [
            "Loading protein structure...\n",
            "✓ Structure loaded successfully\n",
            "Note: In practice, use from_structure_file() with your PDB file\n"
          ]
        }
      ],
      "source": [
        "from prxteinmpnn.io import from_structure_file\n",
        "\n",
        "print(\"Loading protein structure...\")\n",
        "protein_structure = from_structure_file(file_path=\"/content/AF-P10599-F1-model_v4.pdb\") # chain and model can also be specified\n",
        "\n",
        "print(\"✓ Structure loaded successfully\")\n",
        "print(\"Note: In practice, use from_structure_file() with your PDB file\")"
      ]
    },
    {
      "cell_type": "markdown",
      "id": "9d2a29bf",
      "metadata": {
        "id": "9d2a29bf"
      },
      "source": [
        "## 3. Load the ProteinMPNN Model\n",
        "\n",
        "Now let's load the ProteinMPNN model with the desired version and weights.\n",
        "\n",
        "Enums specify the model version and model weights (original or soluble)."
      ]
    },
    {
      "cell_type": "code",
      "execution_count": 3,
      "id": "bd105f65",
      "metadata": {
        "id": "bd105f65",
        "outputId": "132aba07-cf15-4002-a0bd-ac0be1057d23",
        "colab": {
          "base_uri": "https://localhost:8080/"
        }
      },
      "outputs": [
        {
          "output_type": "stream",
          "name": "stdout",
          "text": [
            "Loading ProteinMPNN model...\n",
            "✓ Loaded ProteinMPNN model version: v_48_020.pkl\n",
            "✓ Using model weights: original\n"
          ]
        }
      ],
      "source": [
        "from prxteinmpnn.mpnn import ProteinMPNNModelVersion, ModelWeights, get_mpnn_model\n",
        "\n",
        "print(\"Loading ProteinMPNN model...\")\n",
        "\n",
        "model_version = ProteinMPNNModelVersion.V_48_020\n",
        "model_weights = ModelWeights.DEFAULT\n",
        "\n",
        "model = get_mpnn_model(\n",
        "    model_version=model_version,\n",
        "    model_weights=model_weights,\n",
        ")\n",
        "\n",
        "print(f\"✓ Loaded ProteinMPNN model version: {model_version.value}\")\n",
        "print(f\"✓ Using model weights: {model_weights.value}\")"
      ]
    },
    {
      "cell_type": "markdown",
      "id": "bc62a991",
      "metadata": {
        "id": "bc62a991"
      },
      "source": [
        "## 4. Prepare Model Inputs\n",
        "\n",
        "Convert the protein structure to model inputs that can be used with ProteinMPNN."
      ]
    },
    {
      "cell_type": "code",
      "execution_count": 4,
      "id": "bbe1ad37",
      "metadata": {
        "id": "bbe1ad37",
        "outputId": "b3f0b588-674c-4545-a7b2-e8287ca73093",
        "colab": {
          "base_uri": "https://localhost:8080/"
        }
      },
      "outputs": [
        {
          "output_type": "stream",
          "name": "stdout",
          "text": [
            "Preparing model inputs...\n",
            "✓ Model inputs prepared\n",
            "Note: In practice, use protein_structure_to_model_inputs()\n",
            "Sequence length: 105\n",
            "Sequence: [10 17  8 13  7  3 15  8 16  0  4 13  3  0  9  2  0  0  5  2]...\n"
          ]
        }
      ],
      "source": [
        "# Convert structure to model inputs\n",
        "print(\"Preparing model inputs...\")\n",
        "from prxteinmpnn.io import protein_structure_to_model_inputs\n",
        "\n",
        "# In practice, you would use:\n",
        "model_inputs = protein_structure_to_model_inputs(protein_structure)\n",
        "\n",
        "# For this example, we'll create mock model inputs\n",
        "print(\"✓ Model inputs prepared\")\n",
        "print(\"Note: In practice, use protein_structure_to_model_inputs()\")\n",
        "\n",
        "# Mock some basic parameters for demonstration\n",
        "\n",
        "print(f\"Sequence length: {len(model_inputs.sequence)}\")\n",
        "print(f\"Sequence: {model_inputs.sequence[:20]}...\")"
      ]
    },
    {
      "cell_type": "markdown",
      "id": "b51817f4",
      "metadata": {
        "id": "b51817f4"
      },
      "source": [
        "## 5. Sequence Scoring\n",
        "\n",
        "Let's score sequences using the ProteinMPNN model. This demonstrates how to evaluate the likelihood of specific amino acid sequences for a given structure.\n",
        "\n",
        "Random-number generator keys for stochastic aspects are explicitly defined."
      ]
    },
    {
      "cell_type": "code",
      "execution_count": 5,
      "id": "66ef8b70",
      "metadata": {
        "id": "66ef8b70",
        "outputId": "da32243e-c5ad-4830-f600-86b1c780bb9e",
        "colab": {
          "base_uri": "https://localhost:8080/"
        }
      },
      "outputs": [
        {
          "output_type": "stream",
          "name": "stdout",
          "text": [
            "Setting up sequence scoring...\n",
            "✓ Scoring function created\n",
            "Prepared 3 sequences for scoring\n",
            "✓ Prepared sequences successfully\n",
            "Scoring sequences with same key for decoding order...\n",
            "✓ Scored sequences successfully\n"
          ]
        }
      ],
      "source": [
        "from prxteinmpnn.scoring.score import make_score_sequence\n",
        "from prxteinmpnn.utils.decoding_order import random_decoding_order\n",
        "from prxteinmpnn.io import string_to_protein_sequence\n",
        "\n",
        "\n",
        "# Initialize random key for JAX operations\n",
        "key = jax.random.PRNGKey(42)\n",
        "print(\"Setting up sequence scoring...\")\n",
        "\n",
        "# Create scoring function\n",
        "score_sequence = make_score_sequence(\n",
        "    model,\n",
        "    random_decoding_order,\n",
        "    model_inputs=model_inputs,\n",
        ")\n",
        "\n",
        "print(\"✓ Scoring function created\")\n",
        "\n",
        "# Example of scoring multiple sequences\n",
        "sequences_to_score = [\n",
        "    \"MKFLVNVALVFMVVYISYIYAAIYIQASLLVASVGGTLIPALYQFAIWIIKMKFLVNVALVFMVVYISYIYAAIYIQASLLVASVGGTLIPALYQFAIWIIKIJK\",\n",
        "    \"VNVALVFMVVYISYIYAAIYIQASLLVASVGGTLIPALYQFAIWIIKIJKMKFLVNVALVFMVVYISYIYAAIYIQASLLVASVGGTLIPALYQFAIWIIKMKFL\",\n",
        "    \"VNVALVFMVVYISYIYAAIYIQASLLVASVGGTLIPALYQFAIWIIKMKFLVNVALVFMVVYISYIYAAIYIQASLLVASVGGTLIPALYQFAIWIIKIJKMKFL\",\n",
        "]\n",
        "\n",
        "# Prepare sequences for scoring\n",
        "sequences_to_score = jnp.array([string_to_protein_sequence(seq) for seq in sequences_to_score])\n",
        "\n",
        "print(f\"Prepared {len(sequences_to_score)} sequences for scoring\")\n",
        "\n",
        "print(\"✓ Prepared sequences successfully\")\n",
        "print(\"Scoring sequences with same key for decoding order...\")\n",
        "# Score the prepared sequences\n",
        "scores, logits, decoding_orders = jax.vmap(score_sequence, in_axes=(None, 0))(key, sequences_to_score) # type: ignore[arg-type]\n",
        "# using None for in_axes to keep the key fixed for all sequences\n",
        "# you could also use jax.random.split to create a new key for each sequence if needed\n",
        "print(\"✓ Scored sequences successfully\")\n"
      ]
    },
    {
      "cell_type": "code",
      "source": [
        "print(f\"Scores: {scores}\")\n"
      ],
      "metadata": {
        "id": "P1qcnbWgYHMB",
        "outputId": "9862a9f4-38e3-4a58-d242-58f8669aa70a",
        "colab": {
          "base_uri": "https://localhost:8080/"
        }
      },
      "id": "P1qcnbWgYHMB",
      "execution_count": 6,
      "outputs": [
        {
          "output_type": "stream",
          "name": "stdout",
          "text": [
            "Scores: [3.3719664 3.4745483 3.4547827]\n"
          ]
        }
      ]
    },
    {
      "cell_type": "markdown",
      "id": "2290953a",
      "metadata": {
        "id": "2290953a"
      },
      "source": [
        "### Massively parallel scoring with memory efficiency using jax.lax.map and batch size\n",
        "\n",
        "Often, you may have memory limitations and jax will throw out of memory errors.\n",
        "\n",
        "jax.lax.map offers a convenient way to automatically vmap batches of inputs, effectively balancing efficiency and memory limitations."
      ]
    },
    {
      "cell_type": "code",
      "execution_count": 7,
      "id": "c0f39c90",
      "metadata": {
        "id": "c0f39c90",
        "outputId": "3d9eee4d-1578-4392-9d18-09ab033996f0",
        "colab": {
          "base_uri": "https://localhost:8080/"
        }
      },
      "outputs": [
        {
          "output_type": "stream",
          "name": "stderr",
          "text": [
            "/usr/local/lib/python3.11/dist-packages/jax/_src/ops/scatter.py:93: FutureWarning: scatter inputs have incompatible types: cannot safely cast value from dtype=int32 to dtype=int8 with jax_numpy_dtype_promotion='standard'. In future JAX releases this will result in an error.\n",
            "  warnings.warn(\n"
          ]
        }
      ],
      "source": [
        "\n",
        "# Example of scoring with batching\n",
        "num_sequences = 1_000_000\n",
        "batch_size = 512\n",
        "\n",
        "from jaxtyping import PRNGKeyArray\n",
        "from prxteinmpnn.utils.types import ProteinSequence\n",
        "from functools import partial\n",
        "\n",
        "@partial(jax.jit, static_argnames=(\"mutation_rate\",))\n",
        "def mutate(key: PRNGKeyArray, input_sequence: ProteinSequence, mutation_rate: float=0.25) -> ProteinSequence:\n",
        "    \"\"\"Mutate a protein sequence by randomly changing some amino acids.\n",
        "\n",
        "    See github.com/maraxen/proteinsmc for more advanced mutation strategies and sampling methods.\n",
        "\n",
        "    \"\"\"\n",
        "    # Randomly mutate the input sequence\n",
        "    mutation_indices = jax.random.choice(key, jnp.arange(len(input_sequence)), shape=(int(len(input_sequence) * mutation_rate),), replace=False)\n",
        "    return input_sequence.at[mutation_indices].set(jax.random.choice(key, jnp.arange(0, 20),shape=mutation_indices.shape))\n",
        "\n",
        "sequences_to_score = jax.lax.map(\n",
        "    lambda key: mutate(key, model_inputs.sequence, 0.25),\n",
        "    jax.random.split(key, num_sequences),\n",
        "    batch_size=batch_size,\n",
        ")\n",
        "\n",
        "scores, logits, scoring_decoding_orders = jax.lax.map(\n",
        "    lambda seq: score_sequence(key, seq),  # type: ignore[arg-type]\n",
        "    sequences_to_score,\n",
        "    batch_size=batch_size,\n",
        ")\n"
      ]
    },
    {
      "cell_type": "code",
      "source": [
        "scores[:5]"
      ],
      "metadata": {
        "id": "X-Flb91EYvP0",
        "outputId": "1b0e38f5-f922-40c6-9e65-f1034b5d7029",
        "colab": {
          "base_uri": "https://localhost:8080/"
        }
      },
      "id": "X-Flb91EYvP0",
      "execution_count": 8,
      "outputs": [
        {
          "output_type": "execute_result",
          "data": {
            "text/plain": [
              "Array([2.2299085, 2.2776206, 2.1614697, 2.2135031, 2.2152264], dtype=float32)"
            ]
          },
          "metadata": {},
          "execution_count": 8
        }
      ]
    },
    {
      "cell_type": "markdown",
      "id": "c3a7a5d6",
      "metadata": {
        "id": "c3a7a5d6"
      },
      "source": [
        "## 6. Sequence Sampling\n",
        "\n",
        "Now let's sample new sequences using different sampling strategies. This is the core functionality for protein design."
      ]
    },
    {
      "cell_type": "code",
      "execution_count": 28,
      "id": "9ea11eca",
      "metadata": {
        "id": "9ea11eca",
        "colab": {
          "base_uri": "https://localhost:8080/"
        },
        "collapsed": true,
        "outputId": "012f4397-67d9-4d69-a7c6-ab9b5afc0ae2"
      },
      "outputs": [
        {
          "output_type": "stream",
          "name": "stdout",
          "text": [
            "Available sampling strategies:\n",
            "  - SamplingEnum.TEMPERATURE: Temperature sampling\n",
            "  - SamplingEnum.STRAIGHT_THROUGH: Straight-through estimator sampling\n",
            "Setting up sequence sampling...\n",
            "✓ Sampling function created\n",
            "Sampling sequences with straight-through estimator...\n"
          ]
        }
      ],
      "source": [
        "from prxteinmpnn.sampling import make_sample_sequences, SamplingEnum\n",
        "\n",
        "\n",
        "# Demonstrate different sampling strategies\n",
        "sampling_strategies = [\n",
        "    (SamplingEnum.TEMPERATURE, \"Temperature sampling\"),\n",
        "    (SamplingEnum.STRAIGHT_THROUGH, \"Straight-through estimator sampling\"),\n",
        "]\n",
        "\n",
        "print(\"Available sampling strategies:\")\n",
        "for strategy, description in sampling_strategies:\n",
        "    print(f\"  - {strategy}: {description}\")\n",
        "\n",
        "\n",
        "print(\"Setting up sequence sampling...\")\n",
        "\n",
        "sample_sequence = make_sample_sequences(\n",
        "    model,\n",
        "    random_decoding_order,\n",
        "    sampling_strategy=SamplingEnum.STRAIGHT_THROUGH,\n",
        "    model_inputs=model_inputs,\n",
        ")\n",
        "\n",
        "print(\"✓ Sampling function created\")\n",
        "\n",
        "print(\"Sampling sequences with straight-through estimator...\")\n",
        "\n",
        "# Example of sampling sequences\n",
        "prng_sampling_key, key = jax.random.split(key, 2)\n",
        "hyperparameters = (1e-4,) # Example hyperparameters, in this case the learning rate for the straight-through estimator\n",
        "iterations = 10  # Number of iterations to sample\n",
        "sampled_sequence, logits, decoding_order = sample_sequence(prng_key=prng_sampling_key, hyperparameters=hyperparameters, iterations=iterations)  # type: ignore[arg-type]"
      ]
    },
    {
      "cell_type": "code",
      "source": [
        "from prxteinmpnn.utils.residue_constants import order_aa\n",
        "# Convert JAX array elements to Python integers before using as dictionary keys\n",
        "sampled_sequence_str = ''.join([order_aa.get(aa.item(), 'UNK') for aa in sampled_sequence])\n",
        "print(f\"Original sequence: {''.join([order_aa.get(aa.item(), 'UNK') for aa in model_inputs.sequence])}\")\n",
        "print(f\"with hyperparameters {hyperparameters} after {iterations} iterations\")\n",
        "print(f\"Sampled sequence {sampled_sequence_str}\")"
      ],
      "metadata": {
        "colab": {
          "base_uri": "https://localhost:8080/"
        },
        "id": "yfYyGpPDiyAP",
        "outputId": "7b1c2e97-79df-4287-fcba-d4cf76234977"
      },
      "id": "yfYyGpPDiyAP",
      "execution_count": 29,
      "outputs": [
        {
          "output_type": "stream",
          "name": "stdout",
          "text": [
            "Original sequence: LWHFGDSHTACFDAINAAQNHIWWWNCSATYRQMRHLGHMCCESISDHVSKWGCIDWNWNNRFNWASDRDWHRLMTCFCCHHQFHWQDCSQAKHDHIDATGKDIW\n",
            "with hyperparameters (0.0001,) after 10 iterations\n",
            "Sampled sequence MWWQMQECQQCCFAVISMMMLWWLACLQMCRQMMRMDAQMVCQMGQIMSNQMGEMGWQSMQPMMCAFQWMWDMCRMAKCYRAMGCQQMMAMMSMMFIIAMWFMCA\n"
          ]
        }
      ]
    },
    {
      "cell_type": "markdown",
      "id": "86a46201",
      "metadata": {
        "id": "86a46201"
      },
      "source": [
        "## 7. Summary and Next Steps\n",
        "\n",
        "Congratulations! You've successfully explored the core functionality of PrxteinMPNN. Here's what we covered:\n",
        "\n",
        "### What we learned:\n",
        "- ✅ Loading protein structures and preparing model inputs\n",
        "- ✅ Scoring sequences with ProteinMPNN  \n",
        "- ✅ Sampling new sequences with different strategies\n",
        "- ✅ Leveraging JAX transformations for performance\n",
        "- ✅ Advanced sampling configurations and iterative refinement\n",
        "\n",
        "### Next steps:\n",
        "1. **Try with real data**: Replace the mock examples with actual protein structures\n",
        "2. **Explore the API**: Check out the [full documentation](http://maraxen.github.io/PrxteinMPNN)\n",
        "3. **Performance optimization**: Experiment with different JAX transformations\n",
        "4. **Custom workflows**: Build your own protein design pipelines\n",
        "\n",
        "### Key advantages of PrxteinMPNN:\n",
        "- **🔍 Transparency**: Clear, functional interface to understand model operations\n",
        "- **⚡ Performance**: JAX-powered acceleration with JIT, vmap, and scan\n",
        "- **🧩 Modularity**: Easy to extend and customize for specific use cases\n",
        "- **🔄 Compatibility**: Seamless integration with the JAX ecosystem"
      ]
    },
    {
      "cell_type": "markdown",
      "id": "b976711b",
      "metadata": {
        "id": "b976711b"
      },
      "source": [
        "## Resources\n",
        "\n",
        "- **Documentation**: [http://maraxen.github.io/PrxteinMPNN](http://maraxen.github.io/PrxteinMPNN)\n",
        "- **GitHub Repository**: [https://github.com/maraxen/PrxteinMPNN](https://github.com/maraxen/PrxteinMPNN)\n",
        "- **Issues & Support**: [GitHub Issues](https://github.com/maraxen/PrxteinMPNN/issues)\n",
        "\n",
        "Happy protein designing! 🧬✨"
      ]
    },
    {
      "cell_type": "markdown",
      "id": "c44b6308",
      "metadata": {
        "id": "c44b6308"
      },
      "source": [
        "# Addenda: Comparison to colabdesign (WIP)\n",
        "\n",
        "Stay tuned for the comparison to colabdesign showing parity."
      ]
    }
  ],
  "metadata": {
    "language_info": {
      "name": "python"
    },
    "colab": {
      "provenance": []
    },
    "kernelspec": {
      "name": "python3",
      "display_name": "Python 3"
    }
  },
  "nbformat": 4,
  "nbformat_minor": 5
}