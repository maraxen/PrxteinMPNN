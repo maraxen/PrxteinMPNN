{
 "cells": [
  {
   "cell_type": "code",
   "execution_count": 1,
   "id": "45e9ff84",
   "metadata": {},
   "outputs": [],
   "source": [
    "%load_ext autoreload\n",
    "%autoreload 2"
   ]
  },
  {
   "cell_type": "code",
   "execution_count": 1,
   "id": "685804f9",
   "metadata": {},
   "outputs": [
    {
     "name": "stdout",
     "output_type": "stream",
     "text": [
      "JAX version: 0.7.0\n",
      "JAX backend: cpu\n",
      "Available devices: [CpuDevice(id=0)]\n"
     ]
    }
   ],
   "source": [
    "import jax\n",
    "import jax.numpy as jnp\n",
    "import numpy as np\n",
    "from typing import Any\n",
    "from jax import config\n",
    "print(f\"JAX version: {jax.__version__}\")\n",
    "print(f\"JAX backend: {jax.default_backend()}\")\n",
    "print(f\"Available devices: {jax.devices()}\")"
   ]
  },
  {
   "cell_type": "code",
   "execution_count": 2,
   "id": "234e3f89",
   "metadata": {},
   "outputs": [
    {
     "name": "stdout",
     "output_type": "stream",
     "text": [
      "Loading protein structure...\n"
     ]
    },
    {
     "name": "stderr",
     "output_type": "stream",
     "text": [
      "/Users/mar/MIT Dropbox/Marielle Russo/2025_workspace/PrxteinMPNN/src/prxteinmpnn/io.py:303: UserWarning: Explicitly requested dtype <class 'jax.numpy.float64'> requested in zeros is not available, and will be truncated to dtype float32. To enable more dtypes, set the jax_enable_x64 configuration option or the JAX_ENABLE_X64 shell environment variable. See https://github.com/jax-ml/jax#current-gotchas for more.\n",
      "  coords_37 = jnp.zeros((num_residues, 37, 3), dtype=jnp.float64)\n",
      "/Users/mar/MIT Dropbox/Marielle Russo/2025_workspace/PrxteinMPNN/.venv/lib/python3.13/site-packages/jax/_src/ops/scatter.py:110: FutureWarning: scatter inputs have incompatible types: cannot safely cast value from dtype=int32 to dtype=bool with jax_numpy_dtype_promotion='standard'. In future JAX releases this will result in an error.\n",
      "  warnings.warn(\n"
     ]
    },
    {
     "name": "stdout",
     "output_type": "stream",
     "text": [
      "✓ Structure loaded successfully\n",
      "Note: In practice, use from_structure_file() with your PDB file\n"
     ]
    }
   ],
   "source": [
    "from prxteinmpnn.io import from_structure_file\n",
    "\n",
    "print(\"Loading protein structure...\")\n",
    "protein_structure = from_structure_file(file_path=\"AF-P10599-F1-model_v4.pdb\") # chain and model can also be specified\n",
    "\n",
    "print(\"✓ Structure loaded successfully\")\n",
    "print(\"Note: In practice, use from_structure_file() with your PDB file\")"
   ]
  },
  {
   "cell_type": "code",
   "execution_count": 3,
   "id": "922c5711",
   "metadata": {},
   "outputs": [
    {
     "name": "stdout",
     "output_type": "stream",
     "text": [
      "Loading ProteinMPNN model...\n",
      "✓ Loaded ProteinMPNN model version: v_48_020.pkl\n",
      "✓ Using model weights: original\n"
     ]
    }
   ],
   "source": [
    "from prxteinmpnn.mpnn import ProteinMPNNModelVersion, ModelWeights, get_mpnn_model\n",
    "\n",
    "print(\"Loading ProteinMPNN model...\")\n",
    "\n",
    "model_version = ProteinMPNNModelVersion.V_48_020\n",
    "model_weights = ModelWeights.DEFAULT\n",
    "\n",
    "model = get_mpnn_model(\n",
    "    model_version=model_version,\n",
    "    model_weights=model_weights,\n",
    ")\n",
    "\n",
    "print(f\"✓ Loaded ProteinMPNN model version: {model_version.value}\")\n",
    "print(f\"✓ Using model weights: {model_weights.value}\")"
   ]
  },
  {
   "cell_type": "code",
   "execution_count": 4,
   "id": "3edd72f2",
   "metadata": {},
   "outputs": [
    {
     "name": "stdout",
     "output_type": "stream",
     "text": [
      "Preparing model inputs...\n",
      "✓ Model inputs prepared\n",
      "Note: In practice, use protein_structure_to_model_inputs()\n",
      "Sequence length: 105\n",
      "Sequence: [10 17  8 13  7  3 15  8 16  0  4 13  3  0  9  2  0  0  5  2]...\n"
     ]
    }
   ],
   "source": [
    "# Convert structure to model inputs\n",
    "print(\"Preparing model inputs...\")\n",
    "from prxteinmpnn.io import protein_structure_to_model_inputs\n",
    "\n",
    "# In practice, you would use:\n",
    "model_inputs = protein_structure_to_model_inputs(protein_structure)\n",
    "\n",
    "# For this example, we'll create mock model inputs\n",
    "print(\"✓ Model inputs prepared\")\n",
    "print(\"Note: In practice, use protein_structure_to_model_inputs()\")\n",
    "\n",
    "# Mock some basic parameters for demonstration\n",
    "\n",
    "print(f\"Sequence length: {len(model_inputs.sequence)}\")\n",
    "print(f\"Sequence: {model_inputs.sequence[:20]}...\")"
   ]
  },
  {
   "cell_type": "code",
   "execution_count": 5,
   "id": "16826ac2",
   "metadata": {},
   "outputs": [
    {
     "name": "stdout",
     "output_type": "stream",
     "text": [
      "Available sampling strategies:\n",
      "  - SamplingEnum.TEMPERATURE: Temperature sampling\n",
      "  - SamplingEnum.STRAIGHT_THROUGH: Straight-through estimator sampling\n",
      "Setting up sequence sampling...\n",
      "Temperature based sampling\n"
     ]
    }
   ],
   "source": [
    "from prxteinmpnn.sampling import make_sample_sequences, SamplingConfig, SamplingEnum\n",
    "from prxteinmpnn.utils.decoding_order import random_decoding_order\n",
    "from prxteinmpnn.utils.residue_constants import order_aa\n",
    "from prxteinmpnn.utils.aa_convert import mpnn_to_af\n",
    "import optax\n",
    "import numpy as np\n",
    "\n",
    "prng_sampling_key, key = jax.random.split(jax.random.key(0), 2) \n",
    "\n",
    "\n",
    "# Demonstrate different sampling strategies\n",
    "sampling_strategies = [\n",
    "    (SamplingEnum.TEMPERATURE, \"Temperature sampling\"),\n",
    "    (SamplingEnum.STRAIGHT_THROUGH, \"Straight-through estimator sampling\"),\n",
    "]\n",
    "\n",
    "print(\"Available sampling strategies:\")\n",
    "for strategy, description in sampling_strategies:\n",
    "    print(f\"  - {strategy}: {description}\")\n",
    "\n",
    "\n",
    "print(\"Setting up sequence sampling...\")\n",
    "\n",
    "\n",
    "print(\"Temperature based sampling\")\n",
    "\n",
    "temp_config = SamplingConfig(\n",
    "    sampling_strategy=SamplingEnum.TEMPERATURE,\n",
    "    temperature=0.1,\n",
    ")\n",
    "\n",
    "sample_seq_temp = make_sample_sequences(\n",
    "    model,\n",
    "    random_decoding_order,\n",
    "    config=temp_config,\n",
    "    model_inputs=model_inputs,\n",
    ")\n"
   ]
  },
  {
   "cell_type": "code",
   "execution_count": 17,
   "id": "ed87a42e",
   "metadata": {},
   "outputs": [
    {
     "name": "stdout",
     "output_type": "stream",
     "text": [
      "Available sampling strategies:\n",
      "  - SamplingEnum.TEMPERATURE: Temperature sampling\n",
      "  - SamplingEnum.STRAIGHT_THROUGH: Straight-through estimator sampling\n",
      "Setting up sequence sampling...\n",
      "STE based sampling\n"
     ]
    }
   ],
   "source": [
    "from prxteinmpnn.sampling import make_sample_sequences, SamplingConfig, SamplingEnum\n",
    "from prxteinmpnn.utils.decoding_order import random_decoding_order\n",
    "from prxteinmpnn.utils.residue_constants import order_aa\n",
    "from prxteinmpnn.utils.aa_convert import mpnn_to_af\n",
    "import optax\n",
    "import numpy as np\n",
    "\n",
    "prng_sampling_key, key = jax.random.split(jax.random.key(0), 2) \n",
    "\n",
    "\n",
    "# Demonstrate different sampling strategies\n",
    "sampling_strategies = [\n",
    "    (SamplingEnum.TEMPERATURE, \"Temperature sampling\"),\n",
    "    (SamplingEnum.STRAIGHT_THROUGH, \"Straight-through estimator sampling\"),\n",
    "]\n",
    "\n",
    "print(\"Available sampling strategies:\")\n",
    "for strategy, description in sampling_strategies:\n",
    "    print(f\"  - {strategy}: {description}\")\n",
    "\n",
    "\n",
    "print(\"Setting up sequence sampling...\")\n",
    "\n",
    "\n",
    "print(\"STE based sampling\")\n",
    "\n",
    "ste_config = SamplingConfig(\n",
    "    sampling_strategy=SamplingEnum.STRAIGHT_THROUGH,\n",
    "    learning_rate=0.5,\n",
    "    iterations=100,\n",
    ")\n",
    "\n",
    "sample_seq_ste = make_sample_sequences(\n",
    "    model,\n",
    "    random_decoding_order,\n",
    "    config=ste_config,\n",
    "    model_inputs=model_inputs,\n",
    ")\n"
   ]
  },
  {
   "cell_type": "code",
   "execution_count": 18,
   "id": "6486b8d0",
   "metadata": {},
   "outputs": [],
   "source": [
    "sampled_ste_seqs, logits_ste, decoding_order_ste = jax.lax.map(\n",
    "  lambda x: sample_seq_ste(prng_key=x),\n",
    "  jax.random.split(prng_sampling_key, 10),\n",
    "  batch_size=10,\n",
    "  )\n",
    "sampled_sequence_temp, logits_temp, decoding_order_temp = jax.lax.map(\n",
    "  lambda x: sample_seq_temp(prng_key=x),\n",
    "  jax.random.split(prng_sampling_key, 100),\n",
    "  batch_size=100,\n",
    "  )"
   ]
  },
  {
   "cell_type": "code",
   "execution_count": 19,
   "id": "1f8021f6",
   "metadata": {},
   "outputs": [],
   "source": [
    "def seq_id(seq, ref_seq):\n",
    "    return sum(seq == ref_seq) / len(ref_seq)\n",
    "from functools import partial\n",
    "seq_id_to_original = partial(seq_id, ref_seq=model_inputs.sequence)"
   ]
  },
  {
   "cell_type": "code",
   "execution_count": 20,
   "id": "f7718e8d",
   "metadata": {},
   "outputs": [
    {
     "name": "stdout",
     "output_type": "stream",
     "text": [
      "Setting up sequence scoring...\n",
      "✓ Scoring function created\n",
      "✓ Scored sequences successfully\n"
     ]
    }
   ],
   "source": [
    "from prxteinmpnn.scoring.score import make_score_sequence\n",
    "from prxteinmpnn.utils.decoding_order import random_decoding_order\n",
    "from prxteinmpnn.io import string_to_protein_sequence\n",
    "\n",
    "\n",
    "key = jax.random.PRNGKey(42)\n",
    "print(\"Setting up sequence scoring...\")\n",
    "\n",
    "score_sequence = make_score_sequence(\n",
    "    model,\n",
    "    random_decoding_order,\n",
    "    model_inputs=model_inputs,\n",
    ")\n",
    "\n",
    "print(\"✓ Scoring function created\")\n",
    "\n",
    "same_key_score = partial(score_sequence, key)\n",
    "\n",
    "scores, _, _ = jax.lax.map(same_key_score, sampled_ste_seqs, batch_size=10)\n",
    "print(\"✓ Scored sequences successfully\")\n",
    "temp_scores, _, _ = jax.lax.map(same_key_score, sampled_sequence_temp, batch_size=100)\n"
   ]
  },
  {
   "cell_type": "code",
   "execution_count": 21,
   "id": "a8d65df4",
   "metadata": {},
   "outputs": [
    {
     "name": "stdout",
     "output_type": "stream",
     "text": [
      "Sampled STE sequences score average: 1.0886233\n",
      "Sampled STE sequences score standard deviaion: 0.025988365\n",
      "Sampled STE sequences score maximum: 1.1270864\n",
      "Sampled STE sequences score minimum: 1.0274435\n",
      "Sampled STE sequences average sequence identity to original: 0.6\n",
      "Sampled Temperature sequences score average: 1.150066\n",
      "Sampled Temperature sequences score standard deviation: 0.028019372\n",
      "Sampled Temperature sequences score maximum: 1.2120124\n",
      "Sampled Temperature sequences score minimum: 1.0904613\n",
      "Sampled Temperature sequences average sequence identity to original: 0.6038096\n",
      "Original sequence score:  1.5782065\n"
     ]
    }
   ],
   "source": [
    "ste_seq_ids = jax.lax.map(seq_id_to_original, sampled_ste_seqs, batch_size=100)\n",
    "temp_seq_ids = jax.lax.map(seq_id_to_original, sampled_sequence_temp, batch_size=100)\n",
    "print(\"Sampled STE sequences score average:\", scores.mean())\n",
    "print(\"Sampled STE sequences score standard deviaion:\", scores.std())\n",
    "print(\"Sampled STE sequences score maximum:\", scores.max())\n",
    "print(\"Sampled STE sequences score minimum:\", scores.min())\n",
    "print(\"Sampled STE sequences average sequence identity to original:\", ste_seq_ids.mean())\n",
    "print(\"Sampled Temperature sequences score average:\", temp_scores.mean())\n",
    "print(\"Sampled Temperature sequences score standard deviation:\", temp_scores.std())\n",
    "print(\"Sampled Temperature sequences score maximum:\", temp_scores.max())\n",
    "print(\"Sampled Temperature sequences score minimum:\", temp_scores.min())\n",
    "print(\"Sampled Temperature sequences average sequence identity to original:\", temp_seq_ids.mean())\n",
    "print(\"Original sequence score: \", same_key_score(model_inputs.sequence)[0])\n"
   ]
  },
  {
   "cell_type": "code",
   "execution_count": 9,
   "id": "61a84590",
   "metadata": {},
   "outputs": [],
   "source": [
    "from prxteinmpnn.utils.aa_convert import mpnn_to_af\n",
    "ste_sampled_sequences = [mpnn_to_af(seq) for seq in sampled_ste_seqs]\n",
    "ste_sampled_sequences_str = [''.join([order_aa.get(aa.item(), 'UNK') for aa in seq]) for seq in ste_sampled_sequences]\n",
    "temp_sampled_sequences = [mpnn_to_af(seq) for seq in sampled_sequence_temp]\n",
    "temp_sampled_sequences_str = [''.join([order_aa.get(aa.item(), 'UNK') for aa in seq]) for seq in temp_sampled_sequences]"
   ]
  },
  {
   "cell_type": "code",
   "execution_count": 11,
   "id": "e11e0adc",
   "metadata": {},
   "outputs": [
    {
     "name": "stdout",
     "output_type": "stream",
     "text": [
      "CBDesign sequences score average: 1.1324364\n"
     ]
    }
   ],
   "source": [
    "cbdesign_samples = ['MVIEVTSLEEYEELLKNAGDKLVVVDFYAPWCGPCKKIKPHFEKLSEKYKDVVFLKVDVNKCPEIAKKEGVTSTPTFVFYKNGKKVDSFSGADKEKLEKKIEELK',\n",
    "        'MVIEINSLEEFEKALKDAGDKLVVVDFYAPWCGPCKKIKPFFEKLSEKYKDVVFLKVDVNKCPEIAKKMGVKATPTFKFFKNGKLVDSFVGANEKKLEEKIKKLS',\n",
    "        'MVIEVNSKEEYEELLKNAGDKLVVVDFYAPWCGPCKKIKPYFEKLSEKYKDVIFLKVDVKKCPEIAKEEGVTSTPTFLFFKNGKKVASFSGADKEKLEATIEKLK',\n",
    "        'MVTEINSLEEFEEALKNAGDKLVVIDFYAKWCGPCKKIKPFFEKLSEEYKDVVFLKVDVEKCPEVAKKLGVKSTPTFVFFKNGKKVDSFSGADEEKLKKKIEELS',\n",
    "        'MVTKITSLEEFEEALKNAGDKLVVVDFYAKWCGPCKKIKPYFEKLSEEYKDVVFLEVDVDECPEIAKKEGVTATPTFKFFKNGKLVDSFSGADKEKLEKKIEELK',\n",
    "        'MVKEINSLEEFKAALKAAGDKLVVVDFYAPWCGPCKKIEPYFEELSEKYPDVVFLKVDVNKCPEVAKELGVKSTPTFVFFKNGEKVGSFSGADKEKLEKTIKELS',\n",
    "        'MVKEINSLEEFEAALKAAGDKLVVVDFYAKWCGPCKKIKPYFEELSEKYKDVVFLKVDVDKCPEIAKKEGVTSTPTFVFYKNGKKVDSFSGADKEKLEKKIEELK',\n",
    "        'MVTEITSRAEFEAALAAAGDRLVVVDFYAAWCGPCKEIEPHFEALSERYPDVVFLKVDVDACPEVAAACGVTSTPTFLFFRRGELVDRFSGADKEKLEATIERLR',\n",
    "        'MVTEVNSLEEFEALLAAAGDKLVVVDFYAPWCGPCKKIAPHFEALSERYPDVVFLKVDVDKCPEIAKRCGVKSTPTFLFFKNGELVDRFSGADKAKLEARIEELR',\n",
    "        'MVTEITSKEEFKKALEDAGDKLVVVDFYAPWCGPCKKIKPFFEELSEKYPDVVFLKVDVNKCPEVAKEMGVTATPTFKFFKNGKLVDSFSGADKKKLEERIKKLS']\n",
    "\n",
    "cbdesign_sequences = jnp.array([string_to_protein_sequence(seq) for seq in cbdesign_samples])\n",
    "scores_cbdesign, _, _ = jax.lax.map(same_key_score, cbdesign_sequences, batch_size=10)\n",
    "print(\"CBDesign sequences score average:\", scores_cbdesign.mean())"
   ]
  },
  {
   "cell_type": "code",
   "execution_count": 23,
   "id": "bfb808c8",
   "metadata": {},
   "outputs": [
    {
     "name": "stdout",
     "output_type": "stream",
     "text": [
      "0b0\n",
      "0b10000000\n"
     ]
    }
   ],
   "source": [
    "print(bin(0x00))\n",
    "print(bin(0x80))"
   ]
  },
  {
   "cell_type": "code",
   "execution_count": null,
   "id": "7334782f",
   "metadata": {},
   "outputs": [
    {
     "name": "stdout",
     "output_type": "stream",
     "text": [
      "0b1\n"
     ]
    }
   ],
   "source": [
    "print(bin(0x0DC6 ^ 0x0E46))"
   ]
  },
  {
   "cell_type": "code",
   "execution_count": 34,
   "id": "b2ebdf25",
   "metadata": {},
   "outputs": [
    {
     "data": {
      "text/plain": [
       "3599"
      ]
     },
     "execution_count": 34,
     "metadata": {},
     "output_type": "execute_result"
    }
   ],
   "source": [
    "0x0E0F"
   ]
  },
  {
   "cell_type": "code",
   "execution_count": 37,
   "id": "8e05c9e5",
   "metadata": {},
   "outputs": [
    {
     "data": {
      "text/plain": [
       "'0b10001100'"
      ]
     },
     "execution_count": 37,
     "metadata": {},
     "output_type": "execute_result"
    }
   ],
   "source": [
    "bin(0x8C)"
   ]
  },
  {
   "cell_type": "code",
   "execution_count": 45,
   "id": "c338d931",
   "metadata": {},
   "outputs": [
    {
     "data": {
      "text/plain": [
       "172"
      ]
     },
     "execution_count": 45,
     "metadata": {},
     "output_type": "execute_result"
    }
   ],
   "source": [
    "0xAC"
   ]
  },
  {
   "cell_type": "code",
   "execution_count": 46,
   "id": "610b086a",
   "metadata": {},
   "outputs": [
    {
     "data": {
      "text/plain": [
       "212"
      ]
     },
     "execution_count": 46,
     "metadata": {},
     "output_type": "execute_result"
    }
   ],
   "source": [
    "0xD4"
   ]
  },
  {
   "cell_type": "code",
   "execution_count": null,
   "id": "d4e80798",
   "metadata": {},
   "outputs": [],
   "source": []
  }
 ],
 "metadata": {
  "kernelspec": {
   "display_name": ".venv",
   "language": "python",
   "name": "python3"
  },
  "language_info": {
   "codemirror_mode": {
    "name": "ipython",
    "version": 3
   },
   "file_extension": ".py",
   "mimetype": "text/x-python",
   "name": "python",
   "nbconvert_exporter": "python",
   "pygments_lexer": "ipython3",
   "version": "3.13.3"
  }
 },
 "nbformat": 4,
 "nbformat_minor": 5
}
